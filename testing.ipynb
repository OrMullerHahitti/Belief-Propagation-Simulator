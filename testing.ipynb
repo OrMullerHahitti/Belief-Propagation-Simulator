{
 "cells": [
  {
   "metadata": {},
   "cell_type": "code",
   "outputs": [],
   "execution_count": null,
   "source": "",
   "id": "aafc18c5f5dcebea"
  },
  {
   "metadata": {},
   "cell_type": "code",
   "outputs": [],
   "execution_count": null,
   "source": "",
   "id": "760fbdcad82963c1"
  },
  {
   "metadata": {},
   "cell_type": "markdown",
   "source": "# util testing for loading and saving",
   "id": "cbf56287f0b68c7d"
  },
  {
   "metadata": {},
   "cell_type": "markdown",
   "source": "",
   "id": "64dab48909d0bf47"
  }
 ],
 "metadata": {},
 "nbformat": 4,
 "nbformat_minor": 5
}
