{
 "cells": [
  {
   "metadata": {},
   "cell_type": "markdown",
   "source": [
    "# Creating Factor Graphs with Seed and Running Simulations\n",
    "\n",
    "This notebook demonstrates how to create factor graphs on the spot with a specified seed and run simulations with them.\n"
   ],
   "id": "6a67550496e9ac93"
  },
  {
   "metadata": {
    "ExecuteTime": {
     "end_time": "2025-05-24T18:40:17.925208Z",
     "start_time": "2025-05-24T18:40:17.069874Z"
    }
   },
   "cell_type": "code",
   "source": [
    "import os\n",
    "import numpy as np\n",
    "import random\n",
    "import matplotlib.pyplot as plt\n",
    "from pathlib import Path\n",
    "\n",
    "# Import necessary modules for factor graph creation and simulation\n",
    "from bp_base.factor_graph import FactorGraph\n",
    "from bp_base.agents import VariableAgent, FactorAgent\n",
    "from bp_base.bp_engine_base import BPEngine\n",
    "from bp_base.engines_realizations import (\n",
    "    SplitEngine,\n",
    "    DampingEngine,\n",
    "    CostReductionOnceEngine,\n",
    "    CostReductionAndTD,\n",
    "    TDAndSplitting,\n",
    "    TDAndDiscountBPEngine\n",
    ")\n",
    "from utils.create_factor_graphs_from_config import (\n",
    "    _make_variable,\n",
    "    _make_factor,\n",
    "    build_cycle_graph,\n",
    "    build_random_graph\n",
    ")\n",
    "from configs.global_config_mapping import CT_FACTORIES\n",
    "from utils.path_utils import find_project_root\n",
    "\n",
    "# Set the project root\n",
    "PROJECT_ROOT = find_project_root()\n"
   ],
   "id": "d2e774911b5cda59",
   "outputs": [
    {
     "name": "stdout",
     "output_type": "stream",
     "text": [
      "NetworkX version: 3.4.2\n",
      "Attempting to load: C:\\Users\\Public\\projects\\Belief_propagation_simulator_\\configs\\factor_graphs\\factor-graph-cycle-3-random_intlow1,high100-number5.pkl\n",
      "File does not exist: C:\\Users\\Public\\projects\\Belief_propagation_simulator_\\configs\\factor_graphs\\factor-graph-cycle-3-random_intlow1,high100-number5.pkl\n",
      "Available factor graph files in C:\\Users\\Public\\projects\\Belief_propagation_simulator_\\configs\\factor_graphs:\n",
      "  - factor-graph-cycle-3-random_intlow100,high2000.3-number0.pkl\n",
      "Using first available file: C:\\Users\\Public\\projects\\Belief_propagation_simulator_\\configs\\factor_graphs\\factor-graph-cycle-3-random_intlow100,high2000.3-number0.pkl\n",
      "Graph loaded. Type: <class 'bp_base.factor_graph.FactorGraph'>\n",
      "\n",
      "Factor graph details:\n",
      "Variables: 3\n",
      "Factors: 3\n",
      "Graph nodes: 6\n",
      "Graph edges: 6\n",
      "\n",
      "First few nodes:\n",
      "  - X1\n",
      "  - X2\n",
      "  - X3\n",
      "  - F12\n",
      "  - F23\n",
      "\n",
      "First variable: x1, Domain: 3\n",
      "\n",
      "First factor: f12\n",
      "Cost table shape: (3, 3)\n",
      "\n",
      "Repaired graph saved to: C:\\Users\\Public\\projects\\Belief_propagation_simulator_\\configs\\factor_graphs\\repaired_factor-graph-cycle-3-random_intlow100,high2000.3-number0.pkl\n"
     ]
    }
   ],
   "execution_count": 1
  },
  {
   "metadata": {},
   "cell_type": "markdown",
   "source": [
    "## Set a Random Seed for Reproducibility\n",
    "\n",
    "Setting a seed ensures that the random factor graphs created will be the same each time the notebook is run.\n"
   ],
   "id": "42f3e06f8f554f66"
  },
  {
   "metadata": {
    "ExecuteTime": {
     "end_time": "2025-05-24T18:40:18.093196Z",
     "start_time": "2025-05-24T18:40:18.087726Z"
    }
   },
   "cell_type": "code",
   "source": [
    "# Set a seed for reproducibility\n",
    "SEED = 42\n",
    "np.random.seed(SEED)\n",
    "random.seed(SEED)\n",
    "\n",
    "print(f\"Using seed: {SEED}\")\n"
   ],
   "id": "c9427a6a910c1b51",
   "outputs": [
    {
     "name": "stdout",
     "output_type": "stream",
     "text": [
      "Using seed: 42\n"
     ]
    }
   ],
   "execution_count": 2
  },
  {
   "metadata": {},
   "cell_type": "markdown",
   "source": [
    "## Create Factor Graphs Directly\n",
    "\n",
    "Instead of loading factor graphs from pickle files, we'll create them directly with our specified seed.\n"
   ],
   "id": "f44f4dd874fe8c23"
  },
  {
   "metadata": {
    "ExecuteTime": {
     "end_time": "2025-05-24T18:40:18.313641Z",
     "start_time": "2025-05-24T18:40:18.157096Z"
    }
   },
   "cell_type": "code",
   "source": [
    "def create_factor_graph(graph_type=\"cycle\", num_vars=5, domain_size=3, ct_factory=\"random_int\", ct_params=None, density=0.5):\n",
    "    \"\"\"\n",
    "    Create a factor graph directly without going through the config and pickle process.\n",
    "    \n",
    "    Args:\n",
    "        graph_type (str): Type of graph to create (\"cycle\" or \"random\")\n",
    "        num_vars (int): Number of variables in the graph\n",
    "        domain_size (int): Size of the domain for each variable\n",
    "        ct_factory (str): Name of the cost table factory to use\n",
    "        ct_params (dict): Parameters for the cost table factory\n",
    "        density (float): Density of the graph (for random graphs)\n",
    "        \n",
    "    Returns:\n",
    "        FactorGraph: The created factor graph\n",
    "    \"\"\"\n",
    "    if ct_params is None:\n",
    "        ct_params = {\"low\": 1, \"high\": 100}\n",
    "    \n",
    "    # Get the cost table factory function\n",
    "    ct_factory_fn = CT_FACTORIES[ct_factory]\n",
    "    if graph_type == \"cycle\":\n",
    "        variables,factors,edges= build_cycle_graph(\n",
    "            num_vars= num_vars,\n",
    "            domain_size=domain_size,\n",
    "            ct_factory=ct_factory_fn,\n",
    "            ct_params=ct_params,\n",
    "            density=density\n",
    "\n",
    "        )\n",
    "    \n",
    "\n",
    "    if graph_type == \"random\":\n",
    "        variables, factors, edges = build_random_graph(\n",
    "            num_vars=num_vars,\n",
    "            domain_size=domain_size,\n",
    "            ct_factory=ct_factory_fn,\n",
    "            ct_params=ct_params,\n",
    "            density=density\n",
    "        )\n",
    "    else:\n",
    "        raise ValueError(f\"Unknown graph type: {graph_type}\")\n",
    "    \n",
    "    # Create the factor graph\n",
    "    fg = FactorGraph(variable_li=variables, factor_li=factors, edges=edges)\n",
    "    \n",
    "    return fg\n",
    "# Create a random factor graph with the specified seed\n",
    "random_fg = []\n",
    "for i in range(3):\n",
    "    random_fg.append(create_factor_graph(\n",
    "        graph_type=\"random\",\n",
    "        num_vars=50,\n",
    "        domain_size=20,\n",
    "        ct_factory=\"random_int\",\n",
    "        ct_params={\"low\":1000, \"high\":10000},\n",
    "        density=0.25)\n",
    "    )\n",
    "\n"
   ],
   "id": "845c3de268f22e4b",
   "outputs": [],
   "execution_count": 3
  },
  {
   "metadata": {},
   "cell_type": "markdown",
   "source": [
    "## Run Simulations with Different Engines\n",
    "\n",
    "Now we'll run simulations with the created factor graphs using different engines, including the DampingEngine to demonstrate that damping works correctly after each step.\n"
   ],
   "id": "1798fce61a1cf961"
  },
  {
   "metadata": {
    "ExecuteTime": {
     "end_time": "2025-05-24T18:41:09.874403Z",
     "start_time": "2025-05-24T18:40:18.322736Z"
    }
   },
   "cell_type": "code",
   "source": [
    "def run_simulations(factor_graph, max_iter=30):\n",
    "    \"\"\"\n",
    "    Run simulations with different engines on the given factor graph.\n",
    "    \n",
    "    Args:\n",
    "        factor_graph (List[FactorGraph]): The factor graph to run simulations on\n",
    "        max_iter (int): Maximum number of iterations to run\n",
    "        \n",
    "    Returns:\n",
    "        dict: Dictionary mapping engine names to their costs over iterations\n",
    "    \"\"\"\n",
    "    # Create engines\n",
    "    engines = [BPEngine, DampingEngine]\n",
    "\n",
    "    \n",
    "    # Run simulations\n",
    "    results = {str(engine.__name__): [] for engine in engines}\n",
    "    for graph in factor_graph:\n",
    "        for engine in engines:\n",
    "            import pickle\n",
    "            engine = engine(factor_graph=pickle.loads(pickle.dumps(graph)),normalize=True)\n",
    "            print(f\"Running simulation with {engine.name}...\")\n",
    "\n",
    "            engine.run(max_iter=max_iter, save_json=False, save_csv=False)\n",
    "            results[str(engine.__class__.__name__)].append(engine.history.costs)\n",
    "\n",
    "            print(f\"Completed simulation with {engine.name}. Final cost: {engine.history.costs[-1]}\")\n",
    "    \n",
    "    return results\n",
    "\n",
    "\n",
    "\n",
    "# Run simulations on the random factor graph\n",
    "print(\"\\nRunning simulations on random factor graph...\")\n",
    "random_results = run_simulations(random_fg)\n"
   ],
   "id": "dd20562123c62678",
   "outputs": [
    {
     "name": "stdout",
     "output_type": "stream",
     "text": [
      "\n",
      "Running simulations on random factor graph...\n",
      "Running simulation with BPEngine...\n",
      "Completed simulation with BPEngine. Final cost: 5574.09539473684\n",
      "Running simulation with BPEngine...\n",
      "Completed simulation with BPEngine. Final cost: 5574.09539473684\n",
      "Running simulation with BPEngine...\n",
      "Completed simulation with BPEngine. Final cost: 5427.914590747331\n",
      "Running simulation with BPEngine...\n",
      "Completed simulation with BPEngine. Final cost: 5427.914590747331\n",
      "Running simulation with BPEngine...\n",
      "Completed simulation with BPEngine. Final cost: 5597.416938110752\n",
      "Running simulation with BPEngine...\n",
      "Completed simulation with BPEngine. Final cost: 5597.416938110752\n"
     ]
    }
   ],
   "execution_count": 4
  },
  {
   "metadata": {},
   "cell_type": "markdown",
   "source": [
    "## Plot the Results\n",
    "\n",
    "Let's plot the costs over iterations for each engine to visualize the convergence behavior.\n"
   ],
   "id": "a573319cb781e807"
  },
  {
   "metadata": {
    "ExecuteTime": {
     "end_time": "2025-05-24T18:41:10.014150Z",
     "start_time": "2025-05-24T18:41:09.885865Z"
    }
   },
   "cell_type": "code",
   "source": [
    "def plot_results(results, title):\n",
    "    \"\"\"\n",
    "    Plot the costs over iterations for each engine.\n",
    "    \n",
    "    Args:\n",
    "        results (dict): Dictionary mapping engine names to their costs over iterations\n",
    "        title (str): Title for the plot\n",
    "    \"\"\"\n",
    "    plt.figure(figsize=(12, 8))\n",
    "    \n",
    "    for engine_name, costs in results.items():\n",
    "        # Skip the first 5 costs (initial random costs)\n",
    "        max_len = max(len(c) for c in costs)\n",
    "        costs = [c + [c[-1]] * (max_len - len(c)) for c in costs]\n",
    "        plt.plot(np.average(np.array(costs), axis=0), label=engine_name)\n",
    "    \n",
    "    plt.title(title)\n",
    "    plt.xlabel('Iteration')\n",
    "    plt.ylabel('Cost')\n",
    "    plt.legend()\n",
    "    plt.grid(True)\n",
    "    plt.show()\n",
    "\n",
    "\n",
    "\n",
    "# Plot results for random factor graph\n",
    "plot_results(random_results, \"Costs over Iterations for Random Factor Graph\")\n"
   ],
   "id": "4aa87ed74addc5f2",
   "outputs": [
    {
     "data": {
      "text/plain": [
       "<Figure size 1200x800 with 1 Axes>"
      ],
      "image/png": "[encoded data removed]"
     },
     "metadata": {},
     "output_type": "display_data"
    }
   ],
   "execution_count": 5
  },
  {
   "metadata": {},
   "cell_type": "markdown",
   "source": [
    "## Verify Damping Functionality\n",
    "\n",
    "Let's create a specific test to verify that the damping functionality works correctly after each step.\n"
   ],
   "id": "cef886cb98e58e23"
  },
  {
   "metadata": {
    "ExecuteTime": {
     "end_time": "2025-05-24T18:41:10.354250Z",
     "start_time": "2025-05-24T18:41:10.025204Z"
    }
   },
   "cell_type": "code",
   "source": [
    "def test_damping(factor_graph, damping_factor=0.9, steps=3):\n",
    "    \"\"\"\n",
    "    Test that damping works correctly after each step.\n",
    "    \n",
    "    Args:\n",
    "        factor_graph (FactorGraph): The factor graph to test on\n",
    "        damping_factor (float): The damping factor to use\n",
    "        steps (int): Number of steps to run\n",
    "        \n",
    "    Returns:\n",
    "        list: List of messages before and after damping for each step\n",
    "    \"\"\"\n",
    "    # Create a damping engine\n",
    "    engine = DampingEngine(factor_graph=factor_graph, damping_factor=damping_factor)\n",
    "    \n",
    "    # Run a few steps and capture messages before and after damping\n",
    "    results = []\n",
    "    \n",
    "    for i in range(steps):\n",
    "        print(f\"Step {i+1}:\")\n",
    "        \n",
    "        # Capture messages before damping\n",
    "        before_messages = {}\n",
    "        for var in engine.var_nodes:\n",
    "            var.compute_messages()\n",
    "            before_messages[var.name] = [msg.data.copy() for msg in var.mailer.outbox]\n",
    "        \n",
    "        # Apply damping\n",
    "        engine.post_var_compute()\n",
    "        \n",
    "        # Capture messages after damping\n",
    "        after_messages = {}\n",
    "        for var in engine.var_nodes:\n",
    "            after_messages[var.name] = [msg.data.copy() for msg in var.mailer.outbox]\n",
    "        \n",
    "        # Verify damping was applied correctly\n",
    "        for var_name in before_messages:\n",
    "            for j, (before, after) in enumerate(zip(before_messages[var_name], after_messages[var_name])):\n",
    "                # Check if damping was applied correctly\n",
    "                # The damped message should be a weighted average of the original message and the incoming message\n",
    "                print(f\"  Variable {var_name}, Message {j}:\")\n",
    "                print(f\"    Before damping: {before}\")\n",
    "                print(f\"    After damping: {after}\")\n",
    "                \n",
    "                # Complete the step\n",
    "                var = next(v for v in engine.var_nodes if v.name == var_name)\n",
    "                var.empty_mailbox()\n",
    "                var.mailer.send()\n",
    "                var.mailer.prepare()\n",
    "        \n",
    "        # Complete the step for factors\n",
    "        for factor in engine.graph.G.nodes():\n",
    "            factor.compute_messages()\n",
    "            factor.empty_mailbox()\n",
    "            factor.mailer.send()\n",
    "            factor.mailer.prepare()\n",
    "        \n",
    "        results.append((before_messages, after_messages))\n",
    "    \n",
    "    return results\n",
    "\n",
    "# Test damping on a small cycle factor graph\n",
    "small_fg = create_factor_graph(\n",
    "    graph_type=\"cycle\",\n",
    "    num_vars=3,\n",
    "    domain_size=2,\n",
    "    ct_factory=\"random_int\",\n",
    "    ct_params={\"low\": 1, \"high\": 10}\n",
    ")\n",
    "\n",
    "print(\"Testing damping functionality...\")\n",
    "damping_results = test_damping(small_fg)\n"
   ],
   "id": "51a7f298992a8bd9",
   "outputs": [
    {
     "ename": "ValueError",
     "evalue": "Unknown graph type: cycle",
     "output_type": "error",
     "traceback": [
      "\u001B[1;31m---------------------------------------------------------------------------\u001B[0m",
      "\u001B[1;31mValueError\u001B[0m                                Traceback (most recent call last)",
      "Cell \u001B[1;32mIn[6], line 63\u001B[0m\n\u001B[0;32m     60\u001B[0m     \u001B[38;5;28;01mreturn\u001B[39;00m results\n\u001B[0;32m     62\u001B[0m \u001B[38;5;66;03m# Test damping on a small cycle factor graph\u001B[39;00m\n\u001B[1;32m---> 63\u001B[0m small_fg \u001B[38;5;241m=\u001B[39m \u001B[43mcreate_factor_graph\u001B[49m\u001B[43m(\u001B[49m\n\u001B[0;32m     64\u001B[0m \u001B[43m    \u001B[49m\u001B[43mgraph_type\u001B[49m\u001B[38;5;241;43m=\u001B[39;49m\u001B[38;5;124;43m\"\u001B[39;49m\u001B[38;5;124;43mcycle\u001B[39;49m\u001B[38;5;124;43m\"\u001B[39;49m\u001B[43m,\u001B[49m\n\u001B[0;32m     65\u001B[0m \u001B[43m    \u001B[49m\u001B[43mnum_vars\u001B[49m\u001B[38;5;241;43m=\u001B[39;49m\u001B[38;5;241;43m3\u001B[39;49m\u001B[43m,\u001B[49m\n\u001B[0;32m     66\u001B[0m \u001B[43m    \u001B[49m\u001B[43mdomain_size\u001B[49m\u001B[38;5;241;43m=\u001B[39;49m\u001B[38;5;241;43m2\u001B[39;49m\u001B[43m,\u001B[49m\n\u001B[0;32m     67\u001B[0m \u001B[43m    \u001B[49m\u001B[43mct_factory\u001B[49m\u001B[38;5;241;43m=\u001B[39;49m\u001B[38;5;124;43m\"\u001B[39;49m\u001B[38;5;124;43mrandom_int\u001B[39;49m\u001B[38;5;124;43m\"\u001B[39;49m\u001B[43m,\u001B[49m\n\u001B[0;32m     68\u001B[0m \u001B[43m    \u001B[49m\u001B[43mct_params\u001B[49m\u001B[38;5;241;43m=\u001B[39;49m\u001B[43m{\u001B[49m\u001B[38;5;124;43m\"\u001B[39;49m\u001B[38;5;124;43mlow\u001B[39;49m\u001B[38;5;124;43m\"\u001B[39;49m\u001B[43m:\u001B[49m\u001B[43m \u001B[49m\u001B[38;5;241;43m1\u001B[39;49m\u001B[43m,\u001B[49m\u001B[43m \u001B[49m\u001B[38;5;124;43m\"\u001B[39;49m\u001B[38;5;124;43mhigh\u001B[39;49m\u001B[38;5;124;43m\"\u001B[39;49m\u001B[43m:\u001B[49m\u001B[43m \u001B[49m\u001B[38;5;241;43m10\u001B[39;49m\u001B[43m}\u001B[49m\n\u001B[0;32m     69\u001B[0m \u001B[43m)\u001B[49m\n\u001B[0;32m     71\u001B[0m \u001B[38;5;28mprint\u001B[39m(\u001B[38;5;124m\"\u001B[39m\u001B[38;5;124mTesting damping functionality...\u001B[39m\u001B[38;5;124m\"\u001B[39m)\n\u001B[0;32m     72\u001B[0m damping_results \u001B[38;5;241m=\u001B[39m test_damping(small_fg)\n",
      "Cell \u001B[1;32mIn[3], line 41\u001B[0m, in \u001B[0;36mcreate_factor_graph\u001B[1;34m(graph_type, num_vars, domain_size, ct_factory, ct_params, density)\u001B[0m\n\u001B[0;32m     33\u001B[0m     variables, factors, edges \u001B[38;5;241m=\u001B[39m build_random_graph(\n\u001B[0;32m     34\u001B[0m         num_vars\u001B[38;5;241m=\u001B[39mnum_vars,\n\u001B[0;32m     35\u001B[0m         domain_size\u001B[38;5;241m=\u001B[39mdomain_size,\n\u001B[1;32m   (...)\u001B[0m\n\u001B[0;32m     38\u001B[0m         density\u001B[38;5;241m=\u001B[39mdensity\n\u001B[0;32m     39\u001B[0m     )\n\u001B[0;32m     40\u001B[0m \u001B[38;5;28;01melse\u001B[39;00m:\n\u001B[1;32m---> 41\u001B[0m     \u001B[38;5;28;01mraise\u001B[39;00m \u001B[38;5;167;01mValueError\u001B[39;00m(\u001B[38;5;124mf\u001B[39m\u001B[38;5;124m\"\u001B[39m\u001B[38;5;124mUnknown graph type: \u001B[39m\u001B[38;5;132;01m{\u001B[39;00mgraph_type\u001B[38;5;132;01m}\u001B[39;00m\u001B[38;5;124m\"\u001B[39m)\n\u001B[0;32m     43\u001B[0m \u001B[38;5;66;03m# Create the factor graph\u001B[39;00m\n\u001B[0;32m     44\u001B[0m fg \u001B[38;5;241m=\u001B[39m FactorGraph(variable_li\u001B[38;5;241m=\u001B[39mvariables, factor_li\u001B[38;5;241m=\u001B[39mfactors, edges\u001B[38;5;241m=\u001B[39medges)\n",
      "\u001B[1;31mValueError\u001B[0m: Unknown graph type: cycle"
     ]
    }
   ],
   "execution_count": 6
  },
  {
   "metadata": {},
   "cell_type": "markdown",
   "source": [
    "## Conclusion\n",
    "\n",
    "This notebook demonstrates how to create factor graphs on the spot with a specified seed and run simulations with them. We've also verified that the damping functionality works correctly after each step.\n",
    "\n",
    "Key points:\n",
    "1. Setting a random seed ensures reproducibility of the factor graphs and simulation results.\n",
    "2. The fixed damping implementation correctly applies damping after each variable computation step.\n",
    "3. Different engines show different convergence behaviors on the same factor graph."
   ],
   "id": "a98fabefb1b82700"
  }
 ],
 "metadata": {},
 "nbformat": 4,
 "nbformat_minor": 5
}
