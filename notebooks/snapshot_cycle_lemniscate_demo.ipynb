{
  "cells": [
    {
      "cell_type": "markdown",
      "metadata": {},
      "id": "9de1606f5c0c",
      "source": "# Snapshot Demo: Cycle and Lemniscate Graphs\n\nThis notebook demonstrates the enhanced snapshot capture pipeline for PropFlow's belief propagation engine. We build a cycle graph and a lemniscate (\u221e) graph, run short simulations with snapshots enabled, and inspect the captured artefacts.\n"
    },
    {
      "cell_type": "code",
      "metadata": {},
      "id": "c0b855fec468",
      "execution_count": null,
      "outputs": [],
      "source": "from __future__ import annotations\n\nfrom datetime import datetime\nfrom pathlib import Path\nimport json\n\nimport matplotlib.pyplot as plt\nimport networkx as nx\nimport numpy as np\n\nfrom propflow.bp.engine_base import BPEngine\nfrom propflow.configs import create_random_int_table\nfrom propflow.snapshots.types import SnapshotsConfig\nfrom propflow.snapshots.utils import latest_snapshot\nfrom propflow.utils.fg_utils import FGBuilder\n"
    },
    {
      "cell_type": "code",
      "metadata": {},
      "id": "3d99e889688f",
      "execution_count": null,
      "outputs": [],
      "source": "RUN_ROOT = Path(\"results/notebooks/snapshot_demo\")\nRUN_ROOT.mkdir(parents=True, exist_ok=True)\nnp.random.seed(7)\n\n\ndef _plot_factor_graph(graph, ax, title: str) -> None:\n    labels = {node: getattr(node, \"name\", str(node)) for node in graph.G.nodes}\n    pos = nx.spring_layout(graph.G, seed=42)\n    var_nodes = list(graph.variables)\n    fac_nodes = list(graph.factors)\n    ax.set_title(title)\n    ax.axis(\"off\")\n    nx.draw_networkx_nodes(graph.G, pos, nodelist=var_nodes, node_color=\"#4c72b0\", node_size=600, ax=ax, label=\"Variables\")\n    nx.draw_networkx_nodes(graph.G, pos, nodelist=fac_nodes, node_color=\"#dd8452\", node_shape=\"s\", node_size=500, ax=ax, label=\"Factors\")\n    nx.draw_networkx_edges(graph.G, pos, ax=ax, alpha=0.3)\n    nx.draw_networkx_labels(graph.G, pos, labels=labels, font_size=10, ax=ax)\n    ax.legend(loc=\"upper right\")\n\n\ndef _run_demo(label: str, graph, max_steps: int = 6):\n    run_dir = RUN_ROOT / f\"{label}_{datetime.now().strftime('%Y%m%d_%H%M%S')}\"\n    run_dir.mkdir(parents=True, exist_ok=True)\n\n    cfg = SnapshotsConfig(\n        compute_jacobians=True,\n        compute_block_norms=True,\n        compute_cycles=True,\n        include_detailed_cycles=True,\n        save_each_step=True,\n        save_dir=str(run_dir),\n        retain_last=None,\n    )\n\n    engine = BPEngine(\n        factor_graph=graph,\n        snapshots_config=cfg,\n        use_bct_history=True,\n    )\n    engine.run(max_iter=max_steps)\n\n    manifest_path = run_dir / \"index.json\"\n    manifest = json.loads(manifest_path.read_text()) if manifest_path.exists() else {\"steps\": []}\n\n    latest = latest_snapshot(engine)\n    return {\n        \"engine\": engine,\n        \"manifest\": manifest,\n        \"latest\": latest,\n        \"run_dir\": run_dir,\n    }\n\n\ndef _load_latest_meta(result: dict) -> dict:\n    manifest = result[\"manifest\"]\n    if not manifest.get(\"steps\"):\n        return {}\n    last_step = manifest[\"steps\"][-1][\"step\"]\n    meta_path = result[\"run_dir\"] / f\"step_{int(last_step):04d}\" / \"meta.json\"\n    if meta_path.exists():\n        return json.loads(meta_path.read_text())\n    return {}\n"
    },
    {
      "cell_type": "code",
      "metadata": {},
      "id": "7e003a240508",
      "execution_count": null,
      "outputs": [],
      "source": "cycle_graph = FGBuilder.build_cycle_graph(\n    num_vars=6,\n    domain_size=3,\n    ct_factory=create_random_int_table,\n    ct_params={\"low\": 1, \"high\": 7},\n)\ncycle_result = _run_demo(\"cycle\", cycle_graph, max_steps=6)\ncycle_result[\"manifest\"]\n"
    },
    {
      "cell_type": "code",
      "metadata": {},
      "id": "86992c5df260",
      "execution_count": null,
      "outputs": [],
      "source": "fig, ax = plt.subplots(figsize=(5, 5))\n_plot_factor_graph(cycle_graph, ax, \"Cycle Factor Graph\")\nplt.show()\n\ncycle_meta = _load_latest_meta(cycle_result)\ncycle_meta_context = cycle_meta.get(\"context\", {})\ncycle_meta_analysis = cycle_meta.get(\"analysis\", {})\ncycle_meta_context, cycle_meta_analysis.get(\"block_norms\"), cycle_meta_analysis.get(\"cycles\")\n"
    },
    {
      "cell_type": "code",
      "metadata": {},
      "id": "b20a83d45995",
      "execution_count": null,
      "outputs": [],
      "source": "lemn_graph = FGBuilder.build_lemniscate_graph(\n    num_vars=8,\n    domain_size=3,\n    ct_factory=create_random_int_table,\n    ct_params={\"low\": 1, \"high\": 7},\n)\nlemn_result = _run_demo(\"lemniscate\", lemn_graph, max_steps=8)\nlemn_result[\"manifest\"]\n"
    },
    {
      "cell_type": "code",
      "metadata": {},
      "id": "a9986d69afd4",
      "execution_count": null,
      "outputs": [],
      "source": "fig, ax = plt.subplots(figsize=(6, 5))\n_plot_factor_graph(lemn_graph, ax, \"Lemniscate Factor Graph\")\nplt.show()\n\nlemn_meta = _load_latest_meta(lemn_result)\nlemn_meta_context = lemn_meta.get(\"context\", {})\nlemn_meta_analysis = lemn_meta.get(\"analysis\", {})\nlemn_meta_context, lemn_meta_analysis.get(\"block_norms\"), lemn_meta_analysis.get(\"cycles\")\n"
    },
    {
      "cell_type": "code",
      "metadata": {},
      "id": "fcc111ee29d5",
      "execution_count": null,
      "outputs": [],
      "source": "plt.figure(figsize=(7, 4))\nplt.plot(cycle_result[\"engine\"].history.step_costs, label=\"Cycle\")\nplt.plot(lemn_result[\"engine\"].history.step_costs, label=\"Lemniscate\")\nplt.xlabel(\"Step\")\nplt.ylabel(\"Global Cost\")\nplt.title(\"Cost Trajectories\")\nplt.grid(True, alpha=0.3)\nplt.legend()\nplt.tight_layout()\nplt.show()\n"
    }
  ],
  "metadata": {
    "kernelspec": {
      "display_name": "propflow",
      "language": "python",
      "name": "python3"
    },
    "language_info": {
      "codemirror_mode": {
        "name": "ipython",
        "version": 3
      },
      "file_extension": ".py",
      "mimetype": "text/x-python",
      "name": "python",
      "nbconvert_exporter": "python",
      "pygments_lexer": "ipython3",
      "version": "3.13.9"
    }
  },
  "nbformat": 4,
  "nbformat_minor": 5
}