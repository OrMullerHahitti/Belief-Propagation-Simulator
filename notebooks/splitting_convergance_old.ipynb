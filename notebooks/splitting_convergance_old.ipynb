{
  "cells": [
    {
      "cell_type": "code",
      "execution_count": null,
      "id": "d5d4602b",
      "metadata": {},
      "outputs": [],
      "source": [
        "from propflow.snapshots import(\n",
        "    SnapshotAnalyzer,\n",
        "    SnapshotManager,\n",
        "    SnapshotRecord,\n",
        "   \n",
        ")\n",
        "from propflow import FGBuilder\n",
        "from propflow.engines import Engine\n",
        "from propflow.core import FactorAgent,VariableAgent\n",
        "import numpy as np"
      ]
    },
    {
      "cell_type": "code",
      "execution_count": null,
      "id": "cd0ef35b",
      "metadata": {},
      "outputs": [],
      "source": []
    },
    {
      "cell_type": "code",
      "execution_count": null,
      "id": "f0d339fd",
      "metadata": {},
      "outputs": [],
      "source": [
        "\n",
        "from typing import Dict,List\n",
        "from propflow.core.protocols import CostTable\n",
        "\n",
        "\n",
        "x1 = VariableAgent(\"x1\",2)\n",
        "x2 = VariableAgent(\"x2\",2)\n",
        "x3 = VariableAgent(\"x3\",2)\n",
        "C12 : CostTable=np.array([[4,1],[3,2]])\n",
        "C23 :CostTable=np.array([[0,2],[2,0]])\n",
        "C31 :CostTable= np.array([[0,3],[3,0]])\n",
        "f12 = FactorAgent.create_from_cost_table(\"f12\",C12)\n",
        "f23 = FactorAgent.create_from_cost_table(\"f23\",C23)\n",
        "f31 = FactorAgent.create_from_cost_table(\"f31\",C31)\n",
        "edges : Dict[FactorAgent,List[VariableAgent]] = {\n",
        "    f12:[x1,x2],\n",
        "    f23:[x2,x3],\n",
        "    f31:[x3,x1]\n",
        "}\n",
        "fg = FGBuilder().build_from_edges(\n",
        "    [x1,x2,x3],\n",
        "    [f12,f23,f31],\n",
        "    edges=edges\n",
        ")\n",
        "f12.connection_number\n",
        "fig = fg.visualize(\"spring\",plot=False)\n",
        "axes = fig.get_axes()[0]\n",
        "axes.set_title(\"Initial Factor Graph\")\n",
        "\n",
        "fig.tight_layout()\n",
        "fig.show()\n",
        "fg.get_factor_agents()\n"
      ]
    },
    {
      "cell_type": "code",
      "execution_count": null,
      "id": "33e984d3",
      "metadata": {},
      "outputs": [],
      "source": [
        "from propflow.bp.computators import MinSumComputator\n",
        "from propflow.snapshots.types import SnapshotsConfig\n",
        "config = SnapshotsConfig(True,True,True,True,True)\n",
        "engine = Engine(fg, MinSumComputator(), snapshots_config= config,use_bct_history=True)\n",
        "engine.run(max_iter=20)"
      ]
    },
    {
      "cell_type": "code",
      "execution_count": null,
      "id": "8ca65fc7",
      "metadata": {},
      "outputs": [],
      "source": [
        "from propflow.snapshots.visualizer import SnapshotVisualizer\n",
        "visualizer = SnapshotVisualizer(engine.snapshots)\n",
        "visualizer.plot_argmin_per_variable(vars_filter=[\"x1\",\"x2\",\"x3\"])\n",
        "visualizer.plot_factor_costs('x1', 'f12', step=0)\n",
        "engine.snapshots[-1].data"
      ]
    },
    {
      "cell_type": "code",
      "execution_count": null,
      "id": "7f31efc7",
      "metadata": {},
      "outputs": [],
      "source": []
    },
    {
      "cell_type": "code",
      "execution_count": null,
      "id": "9w0sz5jk8rn",
      "metadata": {},
      "outputs": [],
      "source": [
        "from propflow.snapshots import(\n",
        "    SnapshotAnalyzer,\n",
        "    SnapshotManager,\n",
        "    SnapshotRecord,\n",
        "   \n",
        ")\n",
        "from propflow import FGBuilder\n",
        "from propflow.engines import Engine\n",
        "from propflow.core import FactorAgent,VariableAgent\n",
        "import numpy as np"
      ]
    }
  ],
  "metadata": {
    "kernelspec": {
      "display_name": "Belief-Propagation-Simulator",
      "language": "python",
      "name": "python3"
    },
    "language_info": {
      "codemirror_mode": {
        "name": "ipython",
        "version": 3
      },
      "file_extension": ".py",
      "mimetype": "text/x-python",
      "name": "python",
      "nbconvert_exporter": "python",
      "pygments_lexer": "ipython3",
      "version": "3.13.9"
    }
  },
  "nbformat": 4,
  "nbformat_minor": 5
}
