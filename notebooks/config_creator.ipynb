{
 "cells": [
  {
   "cell_type": "markdown",
   "metadata": {},
   "source": [
    "# Factor Graph Config Creator\n",
    "Interactively create and save factor graph configurations."
   ]
  },
  {
   "cell_type": "code",
   "metadata": {},
   "source": [
    "from utils.create_factor_graphs_from_config import FactorGraphBuilder\n",
    "from utils.path_utils import find_project_root"
   ],
   "outputs": [],
   "execution_count": null
  },
  {
   "cell_type": "markdown",
   "metadata": {},
   "source": [
    "## Step 1: Set up the config path and import the ConfigCreator"
   ]
  },
  {
   "cell_type": "code",
   "metadata": {
    "ExecuteTime": {
     "end_time": "2025-05-17T16:57:42.914984Z",
     "start_time": "2025-05-17T16:57:42.892403Z"
    }
   },
   "source": [
    "from utils.create_factor_graph_config import ConfigCreator\n",
    "from utils.path_utils import find_project_root\n",
    "config_path = find_project_root() / \"configs/factor_graph_configs\"\n",
    "config_path"
   ],
   "outputs": [
    {
     "data": {
      "text/plain": [
       "WindowsPath('C:/Users/Public/projects/Belief_propagation_simulator_/configs/factor_graph_configs')"
      ]
     },
     "execution_count": 2,
     "metadata": {},
     "output_type": "execute_result"
    }
   ],
   "execution_count": 2
  },
  {
   "cell_type": "markdown",
   "metadata": {},
   "source": [
    "## Step 2: Create a new configuration interactively\n",
    "You can change the parameters below to create different graph configs."
   ]
  },
  {
   "cell_type": "code",
   "metadata": {
    "ExecuteTime": {
     "end_time": "2025-05-17T16:59:34.564972Z",
     "start_time": "2025-05-17T16:59:34.554977Z"
    }
   },
   "source": [
    "graph_type = \"random\"  # e.g., 'random', 'cycle', etc.\n",
    "domain_size = 5\n",
    "num_variables = 30\n",
    "ct_factory = \"random_int\"\n",
    "ct_params = {\"low\":100,\"high\":200}\n",
    "density = 0.25\n",
    "\n",
    "ConfigCreator(config_path).create_graph_config(\n",
    "    graph_type=graph_type,\n",
    "    domain_size=domain_size,\n",
    "    num_variables=num_variables,\n",
    "    ct_factory=ct_factory,\n",
    "    ct_params=ct_params,\n",
    "    density=density,\n",
    ")"
   ],
   "outputs": [
    {
     "data": {
      "text/plain": [
       "WindowsPath('C:/Users/Public/projects/Belief_propagation_simulator_/configs/factor_graph_configs/random-30-random_intlow100,high2000.25.pkl')"
      ]
     },
     "execution_count": 5,
     "metadata": {},
     "output_type": "execute_result"
    }
   ],
   "execution_count": 5
  },
  {
   "cell_type": "markdown",
   "metadata": {},
   "source": [
    "## Step 3: Build and save a factor graph from a config file"
   ]
  },
  {
   "cell_type": "code",
   "metadata": {
    "ExecuteTime": {
     "end_time": "2025-05-17T17:00:01.075152Z",
     "start_time": "2025-05-17T17:00:00.501745Z"
    }
   },
   "source": [
    "from utils.create_factor_graphs_from_config import FactorGraphBuilder\n",
    "from utils.path_utils import find_project_root\n",
    "builder = FactorGraphBuilder()\n",
    "cfg_path = str(find_project_root() / \"configs\"/\"factor_graph_configs\"/\"random-30-random_intlow100,high2000.25.pkl\")\n",
    "for i in range(50):\n",
    "    out_path = builder.build_and_save(cfg_path)\n",
    "\n",
    "print(f\"Factor graph saved to: {out_path}\")\n"
   ],
   "outputs": [
    {
     "name": "stdout",
     "output_type": "stream",
     "text": [
      "Factor graph saved to: C:\\Users\\Public\\projects\\Belief_propagation_simulator_\\configs\\factor_graphs\\factor-graph-random-30-random_intlow100,high2000.25-number49.pkl\n"
     ]
    }
   ],
   "execution_count": 6
  },
  {
   "cell_type": "markdown",
   "metadata": {},
   "source": [
    "## Step 4: Load and visualize the factor graph"
   ]
  },
  {
   "cell_type": "code",
   "metadata": {},
   "source": [
    "loaded_graph = builder.load_graph(out_path)\n",
    "loaded_graph.visualize()"
   ],
   "outputs": [],
   "execution_count": null
  }
 ],
 "metadata": {
  "kernelspec": {
   "display_name": "Python 3",
   "language": "python",
   "name": "python3"
  },
  "language_info": {
   "name": "python",
   "version": ""
  }
 },
 "nbformat": 4,
 "nbformat_minor": 2
}
