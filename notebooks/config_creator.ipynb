{
 "cells": [
  {
   "cell_type": "markdown",
   "metadata": {},
   "source": [
    "# Factor Graph Config Creator\n",
    "Interactively create and save factor graph configurations."
   ]
  },
  {
   "cell_type": "code",
   "metadata": {
    "ExecuteTime": {
     "end_time": "2025-05-24T10:03:48.866981Z",
     "start_time": "2025-05-24T10:03:48.635864Z"
    }
   },
   "source": [
    "from utils.create_factor_graphs_from_config import FactorGraphBuilder\n",
    "from utils.path_utils import find_project_root"
   ],
   "outputs": [],
   "execution_count": 2
  },
  {
   "cell_type": "markdown",
   "metadata": {},
   "source": [
    "## Step 1: Set up the config path and import the ConfigCreator"
   ]
  },
  {
   "cell_type": "code",
   "metadata": {
    "ExecuteTime": {
     "end_time": "2025-05-24T10:03:50.485729Z",
     "start_time": "2025-05-24T10:03:50.479235Z"
    }
   },
   "source": [
    "from utils.create_factor_graph_config import ConfigCreator\n",
    "from utils.path_utils import find_project_root\n",
    "config_path = find_project_root() / \"configs/factor_graph_configs\"\n",
    "config_path"
   ],
   "outputs": [
    {
     "data": {
      "text/plain": [
       "WindowsPath('C:/Users/Public/projects/Belief_propagation_simulator_/configs/factor_graph_configs')"
      ]
     },
     "execution_count": 3,
     "metadata": {},
     "output_type": "execute_result"
    }
   ],
   "execution_count": 3
  },
  {
   "cell_type": "markdown",
   "metadata": {},
   "source": [
    "## Step 2: Create a new configuration interactively\n",
    "You can change the parameters below to create different graph configs."
   ]
  },
  {
   "cell_type": "code",
   "metadata": {
    "ExecuteTime": {
     "end_time": "2025-05-24T10:03:52.829119Z",
     "start_time": "2025-05-24T10:03:52.821333Z"
    }
   },
   "source": [
    "graph_type = \"cycle\"  # e.g., 'random', 'cycle', etc.\n",
    "domain_size = 3\n",
    "num_variables = 3\n",
    "ct_factory = \"random_int\"\n",
    "ct_params = {\"low\":100,\"high\":200}\n",
    "density = 0.3\n",
    "\n",
    "ConfigCreator(config_path).create_graph_config(\n",
    "    graph_type=graph_type,\n",
    "    domain_size=domain_size,\n",
    "    num_variables=num_variables,\n",
    "    ct_factory=ct_factory,\n",
    "    ct_params=ct_params,\n",
    "    density=density,\n",
    ")"
   ],
   "outputs": [
    {
     "data": {
      "text/plain": [
       "WindowsPath('C:/Users/Public/projects/Belief_propagation_simulator_/configs/factor_graph_configs/cycle-3-random_intlow100,high2000.3.pkl')"
      ]
     },
     "execution_count": 4,
     "metadata": {},
     "output_type": "execute_result"
    }
   ],
   "execution_count": 4
  },
  {
   "cell_type": "markdown",
   "metadata": {},
   "source": [
    "## Step 3: Build and save a factor graph from a config file"
   ]
  },
  {
   "cell_type": "code",
   "metadata": {
    "ExecuteTime": {
     "end_time": "2025-05-23T13:04:15.309125Z",
     "start_time": "2025-05-23T13:04:15.016768Z"
    }
   },
   "source": [
    "from utils.create_factor_graphs_from_config import FactorGraphBuilder\n",
    "from utils.path_utils import find_project_root\n",
    "builder = FactorGraphBuilder()\n",
    "cfg_path = str(find_project_root() / \"configs\"/\"factor_graph_configs\"/\"random-30-random_intlow1,high1000.25.pkl\")\n",
    "for i in range(30):\n",
    "    out_path = builder.build_and_save(cfg_path)\n",
    "\n",
    "print(f\"Factor graph saved to: {out_path}\")\n"
   ],
   "outputs": [
    {
     "name": "stdout",
     "output_type": "stream",
     "text": [
      "Factor graph saved to: C:\\Users\\Public\\projects\\Belief_propagation_simulator_\\configs\\factor_graphs\\factor-graph-random-30-random_intlow1,high1000.25-number29.pkl\n"
     ]
    }
   ],
   "execution_count": 5
  },
  {
   "cell_type": "markdown",
   "metadata": {},
   "source": [
    "## Step 4: Load and visualize the factor graph"
   ]
  },
  {
   "cell_type": "code",
   "metadata": {},
   "source": [
    "loaded_graph = builder.load_graph(out_path)\n",
    "loaded_graph.visualize()"
   ],
   "outputs": [],
   "execution_count": null
  }
 ],
 "metadata": {
  "kernelspec": {
   "display_name": "Python 3",
   "language": "python",
   "name": "python3"
  },
  "language_info": {
   "name": "python",
   "version": ""
  }
 },
 "nbformat": 4,
 "nbformat_minor": 2
}
