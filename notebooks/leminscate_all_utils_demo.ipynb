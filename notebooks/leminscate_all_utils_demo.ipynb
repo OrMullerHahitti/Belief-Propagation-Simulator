{
 "cells": [
  {
   "cell_type": "markdown",
   "id": "dd9260e6e230",
   "metadata": {},
   "source": [
    "# Lemniscate Snapshot Utilities Demo\n",
    "\n",
    "This notebook builds a lemniscate (∞) factor graph, runs a single PropFlow engine execution with snapshots enabled, and exercises the snapshot utilities and visualisation helpers end-to-end."
   ]
  },
  {
   "cell_type": "code",
   "execution_count": null,
   "id": "192e3b6b9401",
   "metadata": {},
   "outputs": [],
   "source": "from __future__ import annotations\n\nfrom pathlib import Path\nimport json\n\nimport matplotlib.pyplot as plt\nimport numpy as np\n\nfrom propflow import SnapshotAnalyzer, AnalysisReport, SnapshotVisualizer\nfrom propflow.bp.engine_base import BPEngine\nfrom propflow.configs import create_random_int_table\nfrom propflow.snapshots.types import SnapshotsConfig\nfrom propflow.snapshots.utils import (\n    latest_snapshot,\n    latest_jacobians,\n    latest_cycles,\n    latest_winners,\n    get_snapshot,\n)\nfrom propflow.utils.fg_utils import FGBuilder"
  },
  {
   "cell_type": "code",
   "execution_count": 2,
   "id": "dde3a200631d",
   "metadata": {},
   "outputs": [],
   "source": [
    "np.random.seed(7)\n",
    "\n",
    "RUN_DIR = Path(\"results/notebooks/lemniscate_all_utils\")\n",
    "RUN_DIR.mkdir(parents=True, exist_ok=True)\n",
    "\n",
    "snapshot_cfg = SnapshotsConfig(\n",
    "    compute_jacobians=True,\n",
    "    compute_block_norms=True,\n",
    "    compute_cycles=True,\n",
    "    include_detailed_cycles=True,\n",
    "    compute_numeric_cycle_gain=False,\n",
    "    retain_last=None,\n",
    "    save_each_step=False,\n",
    ")\n",
    "\n",
    "graph = FGBuilder.build_lemniscate_graph(\n",
    "    num_vars=8,\n",
    "    domain_size=3,\n",
    "    ct_factory=create_random_int_table,\n",
    "    ct_params={\"low\": 1, \"high\": 7},\n",
    ")\n",
    "\n",
    "engine = BPEngine(\n",
    "    factor_graph=graph,\n",
    "    snapshots_config=snapshot_cfg,\n",
    "    use_bct_history=True,\n",
    ")\n"
   ]
  },
  {
   "cell_type": "code",
   "execution_count": 3,
   "id": "f9f120248fa4",
   "metadata": {},
   "outputs": [
    {
     "name": "stdout",
     "output_type": "stream",
     "text": [
      "Captured 10 steps; final step = 9\n"
     ]
    }
   ],
   "source": [
    "MAX_STEPS = 10\n",
    "engine.run(max_iter=MAX_STEPS)\n",
    "manager = engine._snapshot_manager\n",
    "captured_steps = list(range(len(engine.history.step_costs)))\n",
    "print(f\"Captured {len(captured_steps)} steps; final step = {captured_steps[-1]}\")\n"
   ]
  },
  {
   "cell_type": "code",
   "execution_count": 4,
   "id": "f5125878acfd",
   "metadata": {},
   "outputs": [
    {
     "name": "stdout",
     "output_type": "stream",
     "text": [
      "Latest snapshot step: 9\n",
      "Jacobian blocks available: True\n",
      "Block norms: {'||BPA||_inf': 6.0, '||B||_inf': 0.0, '||PA||_inf': 6.0, '||M||_inf_upper': 6.0}\n",
      "Cycle metrics: 5\n",
      "Winner entries: 54\n",
      "First step Q messages: [('x7', 'f67'), ('x7', 'f78'), ('x2', 'f12')]\n"
     ]
    }
   ],
   "source": [
    "latest = latest_snapshot(engine)\n",
    "print(\"Latest snapshot step:\", latest.data.step)\n",
    "\n",
    "jac = latest_jacobians(engine)\n",
    "print(\"Jacobian blocks available:\", jac is not None)\n",
    "if jac and jac.block_norms:\n",
    "    print(\"Block norms:\", jac.block_norms)\n",
    "\n",
    "cycles = latest_cycles(engine)\n",
    "print(\"Cycle metrics:\", cycles.num_cycles if cycles else None)\n",
    "\n",
    "winners = latest_winners(engine)\n",
    "print(\"Winner entries:\", len(winners) if winners else 0)\n",
    "\n",
    "first_step = captured_steps[0]\n",
    "first_rec = get_snapshot(engine, first_step)\n",
    "print(\"First step Q messages:\", list(first_rec.data.Q.keys())[:3])\n"
   ]
  },
  {
   "cell_type": "code",
   "execution_count": 7,
   "id": "0ed7769a292c",
   "metadata": {},
   "outputs": [
    {
     "ename": "TypeError",
     "evalue": "Object of type MinSumComputator is not JSON serializable",
     "output_type": "error",
     "traceback": [
      "\u001b[31m---------------------------------------------------------------------------\u001b[39m",
      "\u001b[31mTypeError\u001b[39m                                 Traceback (most recent call last)",
      "\u001b[36mCell\u001b[39m\u001b[36m \u001b[39m\u001b[32mIn[7]\u001b[39m\u001b[32m, line 2\u001b[39m\n\u001b[32m      1\u001b[39m last_step = captured_steps[-\u001b[32m1\u001b[39m]\n\u001b[32m----> \u001b[39m\u001b[32m2\u001b[39m step_dir = \u001b[43mmanager\u001b[49m\u001b[43m.\u001b[49m\u001b[43msave_step\u001b[49m\u001b[43m(\u001b[49m\u001b[43mlast_step\u001b[49m\u001b[43m,\u001b[49m\u001b[43m \u001b[49m\u001b[43mRUN_DIR\u001b[49m\u001b[43m,\u001b[49m\u001b[43m \u001b[49m\u001b[43msave\u001b[49m\u001b[43m=\u001b[49m\u001b[38;5;28;43;01mTrue\u001b[39;49;00m\u001b[43m)\u001b[49m\n\u001b[32m      3\u001b[39m \u001b[38;5;28mprint\u001b[39m(\u001b[33m\"\u001b[39m\u001b[33mPersisted step directory:\u001b[39m\u001b[33m\"\u001b[39m, step_dir)\n\u001b[32m      4\u001b[39m meta = json.loads((step_dir / \u001b[33m\"\u001b[39m\u001b[33mmeta.json\u001b[39m\u001b[33m\"\u001b[39m).read_text())\n",
      "\u001b[36mFile \u001b[39m\u001b[32m~/Projects/Belief-Propagation-Simulator/src/propflow/snapshots/manager.py:203\u001b[39m, in \u001b[36mSnapshotManager.save_step\u001b[39m\u001b[34m(self, step_index, out_dir, save)\u001b[39m\n\u001b[32m    194\u001b[39m meta = {\n\u001b[32m    195\u001b[39m     \u001b[33m\"\u001b[39m\u001b[33mcontext\u001b[39m\u001b[33m\"\u001b[39m: context,\n\u001b[32m    196\u001b[39m     \u001b[33m\"\u001b[39m\u001b[33mgraph\u001b[39m\u001b[33m\"\u001b[39m: graph_info,\n\u001b[32m   (...)\u001b[39m\u001b[32m    200\u001b[39m     \u001b[33m\"\u001b[39m\u001b[33mmetadata\u001b[39m\u001b[33m\"\u001b[39m: metadata,\n\u001b[32m    201\u001b[39m }\n\u001b[32m    202\u001b[39m \u001b[38;5;28;01mwith\u001b[39;00m (step_dir / \u001b[33m\"\u001b[39m\u001b[33mmeta.json\u001b[39m\u001b[33m\"\u001b[39m).open(\u001b[33m\"\u001b[39m\u001b[33mw\u001b[39m\u001b[33m\"\u001b[39m) \u001b[38;5;28;01mas\u001b[39;00m fh:\n\u001b[32m--> \u001b[39m\u001b[32m203\u001b[39m     \u001b[43mjson\u001b[49m\u001b[43m.\u001b[49m\u001b[43mdump\u001b[49m\u001b[43m(\u001b[49m\u001b[38;5;28;43mself\u001b[39;49m\u001b[43m.\u001b[49m\u001b[43m_to_builtin\u001b[49m\u001b[43m(\u001b[49m\u001b[43mmeta\u001b[49m\u001b[43m)\u001b[49m\u001b[43m,\u001b[49m\u001b[43m \u001b[49m\u001b[43mfh\u001b[49m\u001b[43m,\u001b[49m\u001b[43m \u001b[49m\u001b[43mindent\u001b[49m\u001b[43m=\u001b[49m\u001b[32;43m2\u001b[39;49m\u001b[43m)\u001b[49m\n\u001b[32m    205\u001b[39m \u001b[38;5;28mself\u001b[39m._update_index_manifest(\n\u001b[32m    206\u001b[39m     base,\n\u001b[32m    207\u001b[39m     {\n\u001b[32m   (...)\u001b[39m\u001b[32m    223\u001b[39m     },\n\u001b[32m    224\u001b[39m )\n\u001b[32m    225\u001b[39m \u001b[38;5;28;01mreturn\u001b[39;00m step_dir\n",
      "\u001b[36mFile \u001b[39m\u001b[32m/opt/homebrew/Cellar/python@3.13/3.13.9_1/Frameworks/Python.framework/Versions/3.13/lib/python3.13/json/__init__.py:179\u001b[39m, in \u001b[36mdump\u001b[39m\u001b[34m(obj, fp, skipkeys, ensure_ascii, check_circular, allow_nan, cls, indent, separators, default, sort_keys, **kw)\u001b[39m\n\u001b[32m    173\u001b[39m     iterable = \u001b[38;5;28mcls\u001b[39m(skipkeys=skipkeys, ensure_ascii=ensure_ascii,\n\u001b[32m    174\u001b[39m         check_circular=check_circular, allow_nan=allow_nan, indent=indent,\n\u001b[32m    175\u001b[39m         separators=separators,\n\u001b[32m    176\u001b[39m         default=default, sort_keys=sort_keys, **kw).iterencode(obj)\n\u001b[32m    177\u001b[39m \u001b[38;5;66;03m# could accelerate with writelines in some versions of Python, at\u001b[39;00m\n\u001b[32m    178\u001b[39m \u001b[38;5;66;03m# a debuggability cost\u001b[39;00m\n\u001b[32m--> \u001b[39m\u001b[32m179\u001b[39m \u001b[43m\u001b[49m\u001b[38;5;28;43;01mfor\u001b[39;49;00m\u001b[43m \u001b[49m\u001b[43mchunk\u001b[49m\u001b[43m \u001b[49m\u001b[38;5;129;43;01min\u001b[39;49;00m\u001b[43m \u001b[49m\u001b[43miterable\u001b[49m\u001b[43m:\u001b[49m\n\u001b[32m    180\u001b[39m \u001b[43m    \u001b[49m\u001b[43mfp\u001b[49m\u001b[43m.\u001b[49m\u001b[43mwrite\u001b[49m\u001b[43m(\u001b[49m\u001b[43mchunk\u001b[49m\u001b[43m)\u001b[49m\n",
      "\u001b[36mFile \u001b[39m\u001b[32m/opt/homebrew/Cellar/python@3.13/3.13.9_1/Frameworks/Python.framework/Versions/3.13/lib/python3.13/json/encoder.py:433\u001b[39m, in \u001b[36m_make_iterencode.<locals>._iterencode\u001b[39m\u001b[34m(o, _current_indent_level)\u001b[39m\n\u001b[32m    431\u001b[39m     \u001b[38;5;28;01myield from\u001b[39;00m _iterencode_list(o, _current_indent_level)\n\u001b[32m    432\u001b[39m \u001b[38;5;28;01melif\u001b[39;00m \u001b[38;5;28misinstance\u001b[39m(o, \u001b[38;5;28mdict\u001b[39m):\n\u001b[32m--> \u001b[39m\u001b[32m433\u001b[39m     \u001b[38;5;28;01myield from\u001b[39;00m _iterencode_dict(o, _current_indent_level)\n\u001b[32m    434\u001b[39m \u001b[38;5;28;01melse\u001b[39;00m:\n\u001b[32m    435\u001b[39m     \u001b[38;5;28;01mif\u001b[39;00m markers \u001b[38;5;129;01mis\u001b[39;00m \u001b[38;5;129;01mnot\u001b[39;00m \u001b[38;5;28;01mNone\u001b[39;00m:\n",
      "\u001b[36mFile \u001b[39m\u001b[32m/opt/homebrew/Cellar/python@3.13/3.13.9_1/Frameworks/Python.framework/Versions/3.13/lib/python3.13/json/encoder.py:407\u001b[39m, in \u001b[36m_make_iterencode.<locals>._iterencode_dict\u001b[39m\u001b[34m(dct, _current_indent_level)\u001b[39m\n\u001b[32m    405\u001b[39m         \u001b[38;5;28;01melse\u001b[39;00m:\n\u001b[32m    406\u001b[39m             chunks = _iterencode(value, _current_indent_level)\n\u001b[32m--> \u001b[39m\u001b[32m407\u001b[39m         \u001b[38;5;28;01myield from\u001b[39;00m chunks\n\u001b[32m    408\u001b[39m \u001b[38;5;28;01mif\u001b[39;00m \u001b[38;5;129;01mnot\u001b[39;00m first \u001b[38;5;129;01mand\u001b[39;00m newline_indent \u001b[38;5;129;01mis\u001b[39;00m \u001b[38;5;129;01mnot\u001b[39;00m \u001b[38;5;28;01mNone\u001b[39;00m:\n\u001b[32m    409\u001b[39m     _current_indent_level -= \u001b[32m1\u001b[39m\n",
      "\u001b[36mFile \u001b[39m\u001b[32m/opt/homebrew/Cellar/python@3.13/3.13.9_1/Frameworks/Python.framework/Versions/3.13/lib/python3.13/json/encoder.py:407\u001b[39m, in \u001b[36m_make_iterencode.<locals>._iterencode_dict\u001b[39m\u001b[34m(dct, _current_indent_level)\u001b[39m\n\u001b[32m    405\u001b[39m         \u001b[38;5;28;01melse\u001b[39;00m:\n\u001b[32m    406\u001b[39m             chunks = _iterencode(value, _current_indent_level)\n\u001b[32m--> \u001b[39m\u001b[32m407\u001b[39m         \u001b[38;5;28;01myield from\u001b[39;00m chunks\n\u001b[32m    408\u001b[39m \u001b[38;5;28;01mif\u001b[39;00m \u001b[38;5;129;01mnot\u001b[39;00m first \u001b[38;5;129;01mand\u001b[39;00m newline_indent \u001b[38;5;129;01mis\u001b[39;00m \u001b[38;5;129;01mnot\u001b[39;00m \u001b[38;5;28;01mNone\u001b[39;00m:\n\u001b[32m    409\u001b[39m     _current_indent_level -= \u001b[32m1\u001b[39m\n",
      "\u001b[36mFile \u001b[39m\u001b[32m/opt/homebrew/Cellar/python@3.13/3.13.9_1/Frameworks/Python.framework/Versions/3.13/lib/python3.13/json/encoder.py:407\u001b[39m, in \u001b[36m_make_iterencode.<locals>._iterencode_dict\u001b[39m\u001b[34m(dct, _current_indent_level)\u001b[39m\n\u001b[32m    405\u001b[39m         \u001b[38;5;28;01melse\u001b[39;00m:\n\u001b[32m    406\u001b[39m             chunks = _iterencode(value, _current_indent_level)\n\u001b[32m--> \u001b[39m\u001b[32m407\u001b[39m         \u001b[38;5;28;01myield from\u001b[39;00m chunks\n\u001b[32m    408\u001b[39m \u001b[38;5;28;01mif\u001b[39;00m \u001b[38;5;129;01mnot\u001b[39;00m first \u001b[38;5;129;01mand\u001b[39;00m newline_indent \u001b[38;5;129;01mis\u001b[39;00m \u001b[38;5;129;01mnot\u001b[39;00m \u001b[38;5;28;01mNone\u001b[39;00m:\n\u001b[32m    409\u001b[39m     _current_indent_level -= \u001b[32m1\u001b[39m\n",
      "\u001b[36mFile \u001b[39m\u001b[32m/opt/homebrew/Cellar/python@3.13/3.13.9_1/Frameworks/Python.framework/Versions/3.13/lib/python3.13/json/encoder.py:440\u001b[39m, in \u001b[36m_make_iterencode.<locals>._iterencode\u001b[39m\u001b[34m(o, _current_indent_level)\u001b[39m\n\u001b[32m    438\u001b[39m         \u001b[38;5;28;01mraise\u001b[39;00m \u001b[38;5;167;01mValueError\u001b[39;00m(\u001b[33m\"\u001b[39m\u001b[33mCircular reference detected\u001b[39m\u001b[33m\"\u001b[39m)\n\u001b[32m    439\u001b[39m     markers[markerid] = o\n\u001b[32m--> \u001b[39m\u001b[32m440\u001b[39m o = \u001b[43m_default\u001b[49m\u001b[43m(\u001b[49m\u001b[43mo\u001b[49m\u001b[43m)\u001b[49m\n\u001b[32m    441\u001b[39m \u001b[38;5;28;01myield from\u001b[39;00m _iterencode(o, _current_indent_level)\n\u001b[32m    442\u001b[39m \u001b[38;5;28;01mif\u001b[39;00m markers \u001b[38;5;129;01mis\u001b[39;00m \u001b[38;5;129;01mnot\u001b[39;00m \u001b[38;5;28;01mNone\u001b[39;00m:\n",
      "\u001b[36mFile \u001b[39m\u001b[32m/opt/homebrew/Cellar/python@3.13/3.13.9_1/Frameworks/Python.framework/Versions/3.13/lib/python3.13/json/encoder.py:180\u001b[39m, in \u001b[36mJSONEncoder.default\u001b[39m\u001b[34m(self, o)\u001b[39m\n\u001b[32m    161\u001b[39m \u001b[38;5;28;01mdef\u001b[39;00m\u001b[38;5;250m \u001b[39m\u001b[34mdefault\u001b[39m(\u001b[38;5;28mself\u001b[39m, o):\n\u001b[32m    162\u001b[39m \u001b[38;5;250m    \u001b[39m\u001b[33;03m\"\"\"Implement this method in a subclass such that it returns\u001b[39;00m\n\u001b[32m    163\u001b[39m \u001b[33;03m    a serializable object for ``o``, or calls the base implementation\u001b[39;00m\n\u001b[32m    164\u001b[39m \u001b[33;03m    (to raise a ``TypeError``).\u001b[39;00m\n\u001b[32m   (...)\u001b[39m\u001b[32m    178\u001b[39m \n\u001b[32m    179\u001b[39m \u001b[33;03m    \"\"\"\u001b[39;00m\n\u001b[32m--> \u001b[39m\u001b[32m180\u001b[39m     \u001b[38;5;28;01mraise\u001b[39;00m \u001b[38;5;167;01mTypeError\u001b[39;00m(\u001b[33mf\u001b[39m\u001b[33m'\u001b[39m\u001b[33mObject of type \u001b[39m\u001b[38;5;132;01m{\u001b[39;00mo.\u001b[34m__class__\u001b[39m.\u001b[34m__name__\u001b[39m\u001b[38;5;132;01m}\u001b[39;00m\u001b[33m \u001b[39m\u001b[33m'\u001b[39m\n\u001b[32m    181\u001b[39m                     \u001b[33mf\u001b[39m\u001b[33m'\u001b[39m\u001b[33mis not JSON serializable\u001b[39m\u001b[33m'\u001b[39m)\n",
      "\u001b[31mTypeError\u001b[39m: Object of type MinSumComputator is not JSON serializable"
     ]
    }
   ],
   "source": [
    "last_step = captured_steps[-1]\n",
    "step_dir = manager.save_step(last_step, RUN_DIR, save=True)\n",
    "print(\"Persisted step directory:\", step_dir)\n",
    "meta = json.loads((step_dir / \"meta.json\").read_text())\n",
    "meta[\"context\"]\n"
   ]
  },
  {
   "cell_type": "code",
   "execution_count": null,
   "id": "106ef590b841",
   "metadata": {},
   "outputs": [],
   "source": "snapshots = [get_snapshot(engine, step) for step in captured_steps]\nanalyzer = SnapshotAnalyzer(snapshots)\nreport = AnalysisReport(analyzer)\nsummary = report.to_json(step_idx=captured_steps[-1])\nsummary_keys = sorted(summary.keys())\nprint(\"Analysis report keys:\", summary_keys)\nsummary[\"block_norms\"]"
  },
  {
   "cell_type": "code",
   "execution_count": null,
   "id": "0b401b0e80ea",
   "metadata": {},
   "outputs": [],
   "source": "visualizer = SnapshotVisualizer(snapshots)\nprint(\"Variables:\", visualizer.variables())\nseries = visualizer.argmin_series()\nprint(\"Series tracked for\", len(series), \"variables\")\n\nvisualizer.plot_argmin_per_variable(vars_filter=visualizer.variables()[:6], figsize=(10, 12))\nplt.show()"
  }
 ],
 "metadata": {
  "kernelspec": {
   "display_name": "Belief-Propagation-Simulator",
   "language": "python",
   "name": "python3"
  },
  "language_info": {
   "codemirror_mode": {
    "name": "ipython",
    "version": 3
   },
   "file_extension": ".py",
   "mimetype": "text/x-python",
   "name": "python",
   "nbconvert_exporter": "python",
   "pygments_lexer": "ipython3",
   "version": "3.13.9"
  }
 },
 "nbformat": 4,
 "nbformat_minor": 5
}