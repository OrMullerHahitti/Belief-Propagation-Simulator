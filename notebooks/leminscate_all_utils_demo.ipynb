{
  "cells": [
    {
      "cell_type": "markdown",
      "id": "dd9260e6e230",
      "metadata": {},
      "source": "# Lemniscate Snapshot Utilities Demo\n\nThis notebook builds a lemniscate (\u221e) factor graph, runs a single PropFlow engine execution with snapshots enabled, and exercises the snapshot utilities and visualisation helpers end-to-end."
    },
    {
      "cell_type": "code",
      "id": "192e3b6b9401",
      "metadata": {},
      "execution_count": null,
      "outputs": [],
      "source": "from __future__ import annotations\n\nfrom dataclasses import asdict\nfrom pathlib import Path\nimport json\n\nimport matplotlib.pyplot as plt\nimport numpy as np\n\nfrom analyzer.reporting import SnapshotAnalyzer, AnalysisReport\nfrom analyzer.reporting.snapshot_parser import from_engine_snapshot_manager\nfrom analyzer.snapshot_visualizer import SnapshotVisualizer\nfrom propflow.bp.engine_base import BPEngine\nfrom propflow.configs import create_random_int_table\nfrom propflow.snapshots.types import SnapshotsConfig\nfrom propflow.snapshots.utils import (\n    latest_snapshot,\n    latest_jacobians,\n    latest_cycles,\n    latest_winners,\n    get_snapshot,\n)\nfrom propflow.utils.fg_utils import FGBuilder\n"
    },
    {
      "cell_type": "code",
      "id": "dde3a200631d",
      "metadata": {},
      "execution_count": null,
      "outputs": [],
      "source": "np.random.seed(7)\n\nRUN_DIR = Path(\"results/notebooks/lemniscate_all_utils\")\nRUN_DIR.mkdir(parents=True, exist_ok=True)\n\nsnapshot_cfg = SnapshotsConfig(\n    compute_jacobians=True,\n    compute_block_norms=True,\n    compute_cycles=True,\n    include_detailed_cycles=True,\n    compute_numeric_cycle_gain=False,\n    retain_last=None,\n    save_each_step=False,\n)\n\ngraph = FGBuilder.build_lemniscate_graph(\n    num_vars=8,\n    domain_size=3,\n    ct_factory=create_random_int_table,\n    ct_params={\"low\": 1, \"high\": 7},\n)\n\nengine = BPEngine(\n    factor_graph=graph,\n    snapshots_config=snapshot_cfg,\n    use_bct_history=True,\n)\n"
    },
    {
      "cell_type": "code",
      "id": "f9f120248fa4",
      "metadata": {},
      "execution_count": null,
      "outputs": [],
      "source": "MAX_STEPS = 10\nengine.run(max_iter=MAX_STEPS)\nmanager = engine._snapshot_manager\ncaptured_steps = list(range(len(engine.history.step_costs)))\nprint(f\"Captured {len(captured_steps)} steps; final step = {captured_steps[-1]}\")\n"
    },
    {
      "cell_type": "code",
      "id": "f5125878acfd",
      "metadata": {},
      "execution_count": null,
      "outputs": [],
      "source": "latest = latest_snapshot(engine)\nprint(\"Latest snapshot step:\", latest.data.step)\n\njac = latest_jacobians(engine)\nprint(\"Jacobian blocks available:\", jac is not None)\nif jac and jac.block_norms:\n    print(\"Block norms:\", jac.block_norms)\n\ncycles = latest_cycles(engine)\nprint(\"Cycle metrics:\", cycles.num_cycles if cycles else None)\n\nwinners = latest_winners(engine)\nprint(\"Winner entries:\", len(winners) if winners else 0)\n\nfirst_step = captured_steps[0]\nfirst_rec = get_snapshot(engine, first_step)\nprint(\"First step Q messages:\", list(first_rec.data.Q.keys())[:3])\n"
    },
    {
      "cell_type": "code",
      "id": "0ed7769a292c",
      "metadata": {},
      "execution_count": null,
      "outputs": [],
      "source": "last_step = captured_steps[-1]\nstep_dir = manager.save_step(last_step, RUN_DIR, save=True)\nprint(\"Persisted step directory:\", step_dir)\nmeta = json.loads((step_dir / \"meta.json\").read_text())\nmeta[\"context\"]\n"
    },
    {
      "cell_type": "code",
      "id": "ad0b92dfc98a",
      "metadata": {},
      "execution_count": null,
      "outputs": [],
      "source": "typed_records = [\n    from_engine_snapshot_manager(get_snapshot(engine, step))\n    for step in captured_steps\n]\nraw_records = [asdict(record) for record in typed_records]\nprint(\"Total records:\", len(raw_records))\nraw_records[0].keys()\n"
    },
    {
      "cell_type": "code",
      "id": "106ef590b841",
      "metadata": {},
      "execution_count": null,
      "outputs": [],
      "source": "analyzer = SnapshotAnalyzer.from_records(typed_records)\nreport = AnalysisReport(analyzer)\nsummary = report.to_json(step_idx=captured_steps[-1])\nsummary_keys = sorted(summary.keys())\nprint(\"Analysis report keys:\", summary_keys)\nsummary[\"block_norms\"]\n"
    },
    {
      "cell_type": "code",
      "id": "0b401b0e80ea",
      "metadata": {},
      "execution_count": null,
      "outputs": [],
      "source": "visualizer = SnapshotVisualizer.from_object(raw_records)\nprint(\"Variables:\", visualizer.variables())\nseries = visualizer.argmin_series()\nprint(\"Series tracked for\", len(series), \"variables\")\n\nvisualizer.plot_argmin_per_variable(vars_filter=visualizer.variables()[:6], figsize=(10, 12))\nplt.show()\n"
    }
  ],
  "metadata": {
    "kernelspec": {
      "display_name": "propflow",
      "language": "python",
      "name": "python3"
    },
    "language_info": {
      "codemirror_mode": {
        "name": "ipython",
        "version": 3
      },
      "file_extension": ".py",
      "mimetype": "text/x-python",
      "name": "python",
      "nbconvert_exporter": "python",
      "pygments_lexer": "ipython3",
      "version": "3.13.9"
    }
  },
  "nbformat": 4,
  "nbformat_minor": 5
}