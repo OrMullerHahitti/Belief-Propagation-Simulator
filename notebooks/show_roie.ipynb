{
 "cells": [
  {
   "cell_type": "code",
   "execution_count": null,
   "id": "da3eb86d",
   "metadata": {},
   "outputs": [],
   "source": [
    "from propflow import FGBuilder\n",
    "from propflow.bp.factor_graph import FactorGraph\n",
    "l:FactorGraph\n",
    "for i in range(100):\n",
    "    l = FGBuilder.build_random_graph(\n",
    "        num_vars=50,\n",
    "        domain_size=10,\n",
    "        ct_factory=CTFactory.random_int.fn,\n",
    "        ct_params={\"low\": 100, \"high\": 200},\n",
    "        density=0.25,\n",
    "    )"
   ]
  }
 ],
 "metadata": {
  "language_info": {
   "name": "python"
  }
 },
 "nbformat": 4,
 "nbformat_minor": 5
}
