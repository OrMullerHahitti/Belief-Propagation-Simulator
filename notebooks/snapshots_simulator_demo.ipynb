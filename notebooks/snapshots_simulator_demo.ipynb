{
 "cells": [
  {
   "cell_type": "markdown",
   "id": "3edbedc2",
   "metadata": {},
   "source": [
    "# Simulator Snapshots & Analysis Demo\n",
    "\n",
    "This notebook demonstrates two things:\n",
    "\n",
    "- Capturing per-step snapshots with in-memory analysis (Jacobians, cycles) from a single engine run.\n",
    "- Running the `Simulator` with snapshot saving enabled and validating that snapshot artifacts are written to disk.\n",
    "\n",
    "It uses the built-in `propflow.snapshots` tools (SnapshotManager) integrated into `BPEngine`.\n"
   ]
  },
  {
   "cell_type": "code",
   "execution_count": 1,
   "id": "7ae3a05f",
   "metadata": {
    "ExecuteTime": {
     "end_time": "2025-10-23T12:49:34.498023Z",
     "start_time": "2025-10-23T12:49:32.457948Z"
    }
   },
   "outputs": [
    {
     "name": "stdout",
     "output_type": "stream",
     "text": [
      "Imports OK\n"
     ]
    }
   ],
   "source": [
    "# Setup imports and paths for local src-layout\n",
    "import sys, json\n",
    "from pathlib import Path\n",
    "sys.path.insert(0, 'src')  # ensure local package resolution in editable/dev setup\n",
    "\n",
    "from propflow.utils import FGBuilder\n",
    "from propflow.bp.engines import DampingEngine, Engine\n",
    "from propflow.snapshots import SnapshotsConfig\n",
    "from propflow.simulator import Simulator\n",
    "\n",
    "print('Imports OK')"
   ]
  },
  {
   "cell_type": "code",
   "execution_count": null,
   "id": "31e295f6",
   "metadata": {},
   "outputs": [],
   "source": []
  },
  {
   "cell_type": "markdown",
   "id": "0ef7f6da",
   "metadata": {},
   "source": [
    "## Part A — In-memory analysis via SnapshotManager\n",
    "\n",
    "We attach a `SnapshotsConfig` to an engine and run a few steps.\n",
    "Then we inspect the latest snapshot record for Jacobians, block norms, and basic cycle metrics.\n"
   ]
  },
  {
   "cell_type": "code",
   "execution_count": 2,
   "id": "02a35750",
   "metadata": {
    "ExecuteTime": {
     "end_time": "2025-10-23T12:51:00.596054Z",
     "start_time": "2025-10-23T12:51:00.563652Z"
    }
   },
   "outputs": [
    {
     "name": "stdout",
     "output_type": "stream",
     "text": [
      "Latest step: 4\n",
      "nQ slots: 24\n",
      "nR slots: 24\n",
      "Block norms: {'||BPA||_inf': 6.666666666666666, '||B||_inf': 1.4285714285714286, '||PA||_inf': 6.666666666666666, '||M||_inf_upper': 3.0}\n",
      "Cycles found: 2\n",
      "Aligned hops total: 2\n",
      "Has certified contraction: False\n"
     ]
    }
   ],
   "source": [
    "# Build a small cycle factor graph\n",
    "fg = FGBuilder.build_cycle_graph(\n",
    "    num_vars=4,\n",
    "    domain_size=3,\n",
    "    ct_factory='random_int',\n",
    "    ct_params={'low': 0, 'high': 5},\n",
    "    density=1.0,  # unused for cycle, kept for signature\n",
    ")\n",
    "\n",
    "# Configure snapshots with analysis enabled (no disk saving here)\n",
    "snap_cfg = SnapshotsConfig(\n",
    "    compute_jacobians=True,\n",
    "    compute_block_norms=True,\n",
    "    compute_cycles=True,\n",
    "    include_detailed_cycles=True,\n",
    "    retain_last=10,\n",
    "    save_each_step=False,\n",
    ")\n",
    "\n",
    "engine = DampingEngine(factor_graph=fg, damping_factor=0.7, snapshots_config=snap_cfg)\n",
    "for i in range(5):\n",
    "    engine.step(i)\n",
    "\n",
    "rec = engine.latest_snapshot()\n",
    "assert rec is not None, 'No snapshot record captured'\n",
    "print('Latest step:', rec.data.step)\n",
    "# Jacobians info\n",
    "if rec.jacobians is not None:\n",
    "    print('nQ slots:', len(rec.jacobians.idxQ))\n",
    "    print('nR slots:', len(rec.jacobians.idxR))\n",
    "    print('Block norms:', rec.jacobians.block_norms)\n",
    "else:\n",
    "    print('No jacobians computed')\n",
    "# Cycles info\n",
    "if rec.cycles is not None:\n",
    "    print('Cycles found:', rec.cycles.num_cycles)\n",
    "    print('Aligned hops total:', rec.cycles.aligned_hops_total)\n",
    "    print('Has certified contraction:', rec.cycles.has_certified_contraction)\n",
    "else:\n",
    "    print('No cycles metrics computed')"
   ]
  },
  {
   "cell_type": "markdown",
   "id": "288eb4de",
   "metadata": {},
   "source": [
    "## Part B — Simulator run with snapshot saving\n",
    "\n",
    "Here we pass `SnapshotsConfig(save_each_step=True, save_dir=...)` through the `Simulator` engine config.\n",
    "After a short run, we validate that per-step directories with `meta.json` and `A/P/B.npz` exist.\n"
   ]
  },
  {
   "cell_type": "code",
   "execution_count": null,
   "id": "83372c1b",
   "metadata": {},
   "outputs": [],
   "source": [
    "# Prepare an output directory under results/ as per repo guidelines\n",
    "out_dir = Path('results') / 'snapshots_demo'\n",
    "out_dir.mkdir(parents=True, exist_ok=True)\n",
    "\n",
    "# (Optional) Clean previous step_* folders for a fresh check\n",
    "for p in sorted(out_dir.glob('step_*')):\n",
    "    if p.is_dir():\n",
    "        for f in p.glob('*'):\n",
    "            try: f.unlink()\n",
    "            except Exception: pass\n",
    "        try: p.rmdir()\n",
    "        except Exception: pass\n",
    "\n",
    "# Build a tiny graph list\n",
    "graphs = [\n",
    "    FGBuilder.build_cycle_graph(\n",
    "        num_vars=4, domain_size=3, ct_factory='random_int', ct_params={'low':0,'high':4}, density=1.0\n",
    "    )\n",
    "]\n",
    "\n",
    "# Engine configuration for Simulator, including snapshots saving\n",
    "engine_configs = {\n",
    "    'DampingEngine': {\n",
    "        'class': DampingEngine,\n",
    "        'damping_factor': 0.7,\n",
    "        'snapshots_config': SnapshotsConfig(\n",
    "            compute_jacobians=True,\n",
    "            compute_block_norms=True,\n",
    "            compute_cycles=True,\n",
    "            include_detailed_cycles=False,\n",
    "            retain_last=5,\n",
    "            save_each_step=True,\n",
    "            save_dir=str(out_dir),\n",
    "        ),\n",
    "    }\n",
    "}\n",
    "\n",
    "sim = Simulator(engine_configs, log_level='MINIMAL')\n",
    "_ = sim.run_simulations(graphs, max_iter=4)\n",
    "\n",
    "# Validate saved artifacts\n",
    "step_dirs = sorted(out_dir.glob('step_*'))\n",
    "print('Saved steps:', [p.name for p in step_dirs])\n",
    "assert step_dirs, 'No step_* directories found; snapshots may not have been saved'\n",
    "\n",
    "first = step_dirs[0]\n",
    "assert (first / 'meta.json').exists(), 'meta.json missing'\n",
    "assert (first / 'A.npz').exists(), 'A.npz missing'\n",
    "assert (first / 'P.npz').exists(), 'P.npz missing'\n",
    "assert (first / 'B.npz').exists(), 'B.npz missing'\n",
    "\n",
    "with (first / 'meta.json').open() as fh:\n",
    "    meta = json.load(fh)\n",
    "print('meta keys:', sorted(meta.keys()))\n",
    "print('cycles summary:', meta.get('cycles', {}))\n",
    "print('block norms:', meta.get('block_norms'))\n",
    "print('OK — snapshot files present and readable.')"
   ]
  }
 ],
 "metadata": {
  "kernelspec": {
   "display_name": "propflow",
   "language": "python",
   "name": "python3"
  },
  "language_info": {
   "codemirror_mode": {
    "name": "ipython",
    "version": 3
   },
   "file_extension": ".py",
   "mimetype": "text/x-python",
   "name": "python",
   "nbconvert_exporter": "python",
   "pygments_lexer": "ipython3",
   "version": "3.13.9"
  }
 },
 "nbformat": 4,
 "nbformat_minor": 5
}
