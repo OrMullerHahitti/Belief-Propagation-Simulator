{
 "cells": [
  {
   "cell_type": "code",
   "id": "initial_id",
   "metadata": {
    "collapsed": true,
    "ExecuteTime": {
     "end_time": "2025-05-18T04:30:29.371771Z",
     "start_time": "2025-05-18T04:30:26.082595Z"
    }
   },
   "source": [
    "import os\n",
    "from os.path import exists\n",
    "from utils.path_utils import create_directory\n",
    "from bp_base.engines_realizations import TDAndSplitting\n",
    "from pathlib import Path\n",
    "import pickle\n",
    "from utils.path_utils import find_project_root, create_directory\n",
    "\n",
    "GRAPH_DIR = find_project_root() /\"configs\" / \"factor_graphs\"\n",
    "PATTERN = \"*pkl\"\n",
    "graph_dir = list(GRAPH_DIR.glob(PATTERN))\n",
    "\n",
    "graphs = []\n",
    "for fp in GRAPH_DIR.glob(PATTERN):\n",
    "    with fp.open(\"rb\") as f:\n",
    "        graphs.append(pickle.load(f))"
   ],
   "outputs": [
    {
     "name": "stdout",
     "output_type": "stream",
     "text": [
      "NetworkX version: 3.4.2\n",
      "Attempting to load: C:\\Users\\Public\\projects\\Belief_propagation_simulator_\\configs\\factor_graphs\\factor-graph-cycle-3-random_intlow1,high100-number5.pkl\n",
      "File does not exist: C:\\Users\\Public\\projects\\Belief_propagation_simulator_\\configs\\factor_graphs\\factor-graph-cycle-3-random_intlow1,high100-number5.pkl\n",
      "Available factor graph files in C:\\Users\\Public\\projects\\Belief_propagation_simulator_\\configs\\factor_graphs:\n",
      "  - factor-graph-random-30-random_intlow100,high2000.25-number0.pkl\n",
      "Using first available file: C:\\Users\\Public\\projects\\Belief_propagation_simulator_\\configs\\factor_graphs\\factor-graph-random-30-random_intlow100,high2000.25-number0.pkl\n",
      "Graph loaded. Type: <class 'bp_base.factor_graph.FactorGraph'>\n",
      "\n",
      "Factor graph details:\n",
      "Variables: 30\n",
      "Factors: 108\n",
      "Graph nodes: 138\n",
      "Graph edges: 216\n",
      "\n",
      "First few nodes:\n",
      "  - X1\n",
      "  - X2\n",
      "  - X3\n",
      "  - X4\n",
      "  - X5\n",
      "\n",
      "First variable: x1, Domain: 5\n",
      "\n",
      "First factor: f112\n",
      "Cost table shape: (5, 5)\n",
      "\n",
      "Repaired graph saved to: C:\\Users\\Public\\projects\\Belief_propagation_simulator_\\configs\\factor_graphs\\repaired_factor-graph-random-30-random_intlow100,high2000.25-number0.pkl\n"
     ]
    }
   ],
   "execution_count": 1
  },
  {
   "metadata": {},
   "cell_type": "markdown",
   "source": "## set saving dir for each simulation",
   "id": "507d091c14a12353"
  },
  {
   "metadata": {},
   "cell_type": "code",
   "source": [
    "import asyncio\n",
    "from bp_base.bp_engine_base import BPEngine\n",
    "from bp_base.engines_realizations import (\n",
    "SplitEngine,\n",
    "DampingEngine,\n",
    "CostReductionOnceEngine,\n",
    "CostReductionAndDamping,\n",
    "DampAndDiscountBPEngine,\n",
    "\n",
    ")\n",
    "\n",
    "\n",
    "for fg in graphs:\n",
    "    engines = [\n",
    "    BPEngine(factor_graph=fg),\n",
    "    SplitEngine(factor_graph=fg),\n",
    "    DampingEngine(factor_graph=fg),\n",
    "    CostReductionAndDamping(factor_graph=fg),\n",
    "    CostReductionOnceEngine(factor_graph=fg),\n",
    "    DampingAndSplitting(factor_graph=fg),\n",
    "    DampAndDiscountBPEngine(factor_graph=fg)\n",
    "    ]\n",
    "for engine in engines:\n",
    "   engine.run(max_iter=200, save_json=False, save_csv=True)\n",
    "\n",
    "\n",
    "\n"
   ],
   "id": "1668d59c2a9c0ace",
   "outputs": [],
   "execution_count": null
  },
  {
   "metadata": {},
   "cell_type": "markdown",
   "source": "",
   "id": "d5d250142c7ffd14"
  }
 ],
 "metadata": {
  "kernelspec": {
   "display_name": "Python 3",
   "language": "python",
   "name": "python3"
  },
  "language_info": {
   "codemirror_mode": {
    "name": "ipython",
    "version": 2
   },
   "file_extension": ".py",
   "mimetype": "text/x-python",
   "name": "python",
   "nbconvert_exporter": "python",
   "pygments_lexer": "ipython2",
   "version": "2.7.6"
  }
 },
 "nbformat": 4,
 "nbformat_minor": 5
}
