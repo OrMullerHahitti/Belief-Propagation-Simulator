{
 "cells": [
  {
   "cell_type": "code",
   "id": "initial_id",
   "metadata": {
    "collapsed": true,
    "ExecuteTime": {
     "end_time": "2025-05-26T22:51:48.400480Z",
     "start_time": "2025-05-26T22:51:47.038096Z"
    }
   },
   "source": [
    "\n",
    "from bp_base.engines_realizations import TDAndSplitting\n",
    "import pickle\n",
    "from utils.path_utils import find_project_root\n",
    "\n",
    "GRAPH_DIR = find_project_root() /\"configs\" / \"factor_graphs\"\n",
    "PATTERN = \"*pkl\"\n",
    "graph_dir = list(GRAPH_DIR.glob(PATTERN))\n",
    "\n",
    "graphs = []\n",
    "for fp in GRAPH_DIR.glob(PATTERN):\n",
    "    with fp.open(\"rb\") as f:\n",
    "        graphs.append(pickle.load(f))"
   ],
   "outputs": [
    {
     "name": "stdout",
     "output_type": "stream",
     "text": [
      "NetworkX version: 3.4.2\n",
      "Attempting to load: C:\\Users\\Public\\projects\\Belief_propagation_simulator_\\configs\\factor_graphs\\factor-graph-cycle-3-random_intlow1,high100-number5.pkl\n",
      "File does not exist: C:\\Users\\Public\\projects\\Belief_propagation_simulator_\\configs\\factor_graphs\\factor-graph-cycle-3-random_intlow1,high100-number5.pkl\n",
      "Available factor graph files in C:\\Users\\Public\\projects\\Belief_propagation_simulator_\\configs\\factor_graphs:\n",
      "  - factor-graph-cycle-3-random_intlow100,high2000.3-number0.pkl\n",
      "Using first available file: C:\\Users\\Public\\projects\\Belief_propagation_simulator_\\configs\\factor_graphs\\factor-graph-cycle-3-random_intlow100,high2000.3-number0.pkl\n",
      "Graph loaded. Type: <class 'bp_base.factor_graph.FactorGraph'>\n",
      "\n",
      "Factor graph details:\n",
      "Variables: 3\n",
      "Factors: 3\n",
      "Graph nodes: 6\n",
      "Graph edges: 6\n",
      "\n",
      "First few nodes:\n",
      "  - X1\n",
      "  - X2\n",
      "  - X3\n",
      "  - F12\n",
      "  - F23\n",
      "\n",
      "First variable: x1, Domain: 3\n",
      "\n",
      "First factor: f12\n",
      "Cost table shape: (3, 3)\n",
      "\n",
      "Repaired graph saved to: C:\\Users\\Public\\projects\\Belief_propagation_simulator_\\configs\\factor_graphs\\repaired_factor-graph-cycle-3-random_intlow100,high2000.3-number0.pkl\n"
     ]
    }
   ],
   "execution_count": 1
  },
  {
   "metadata": {},
   "cell_type": "markdown",
   "source": "## set saving dir for each simulation",
   "id": "507d091c14a12353"
  },
  {
   "metadata": {
    "ExecuteTime": {
     "end_time": "2025-05-26T22:52:16.661775Z",
     "start_time": "2025-05-26T22:51:48.432530Z"
    }
   },
   "cell_type": "code",
   "source": [
    "\n",
    "from bp_base.engines_realizations import (\n",
    "TDAndSplitting,\n",
    "TDAndDiscountBPEngine,\n",
    "BPEngine,\n",
    ")\n",
    "engines = [BPEngine, TDAndSplitting, TDAndDiscountBPEngine]\n",
    "costs = {str(engine.__name__): [] for engine in engines}\n",
    "graphs = []\n",
    "\n",
    "for i in range(len(engines)):\n",
    "    for fp in GRAPH_DIR.glob(PATTERN):\n",
    "        with fp.open(\"rb\") as f:\n",
    "            graphs.append(pickle.load(f))\n",
    "\n",
    "    for fg in graphs:\n",
    "        engine = engines[i](factor_graph=fg)\n",
    "        engine.run(max_iter=5, save_json=False, save_csv=False)\n",
    "        costs[str(engine.__class__.__name__)].append(engine.history.costs)\n",
    "\n",
    "\n",
    "\n",
    "\n"
   ],
   "id": "1668d59c2a9c0ace",
   "outputs": [
    {
     "ename": "TypeError",
     "evalue": "BPEngine.__init__() got an unexpected keyword argument 'discount_factor'",
     "output_type": "error",
     "traceback": [
      "\u001B[1;31m---------------------------------------------------------------------------\u001B[0m",
      "\u001B[1;31mTypeError\u001B[0m                                 Traceback (most recent call last)",
      "Cell \u001B[1;32mIn[2], line 18\u001B[0m\n\u001B[0;32m     15\u001B[0m         graphs\u001B[38;5;241m.\u001B[39mappend(pickle\u001B[38;5;241m.\u001B[39mload(f))\n\u001B[0;32m     17\u001B[0m \u001B[38;5;28;01mfor\u001B[39;00m fg \u001B[38;5;129;01min\u001B[39;00m graphs:\n\u001B[1;32m---> 18\u001B[0m     engine \u001B[38;5;241m=\u001B[39m \u001B[43mengines\u001B[49m\u001B[43m[\u001B[49m\u001B[43mi\u001B[49m\u001B[43m]\u001B[49m\u001B[43m(\u001B[49m\u001B[43mfactor_graph\u001B[49m\u001B[38;5;241;43m=\u001B[39;49m\u001B[43mfg\u001B[49m\u001B[43m)\u001B[49m\n\u001B[0;32m     19\u001B[0m     engine\u001B[38;5;241m.\u001B[39mrun(max_iter\u001B[38;5;241m=\u001B[39m\u001B[38;5;241m5\u001B[39m, save_json\u001B[38;5;241m=\u001B[39m\u001B[38;5;28;01mFalse\u001B[39;00m, save_csv\u001B[38;5;241m=\u001B[39m\u001B[38;5;28;01mFalse\u001B[39;00m)\n\u001B[0;32m     20\u001B[0m     costs[\u001B[38;5;28mstr\u001B[39m(engine\u001B[38;5;241m.\u001B[39m\u001B[38;5;18m__class__\u001B[39m\u001B[38;5;241m.\u001B[39m\u001B[38;5;18m__name__\u001B[39m)]\u001B[38;5;241m.\u001B[39mappend(engine\u001B[38;5;241m.\u001B[39mhistory\u001B[38;5;241m.\u001B[39mcosts)\n",
      "File \u001B[1;32mC:\\Users\\Public\\projects\\Belief_propagation_simulator_\\bp_base\\engines_realizations.py:48\u001B[0m, in \u001B[0;36mTDAndSplitting.__init__\u001B[1;34m(self, p, damping_factor, *args, **kwargs)\u001B[0m\n\u001B[0;32m     46\u001B[0m kwargs\u001B[38;5;241m.\u001B[39msetdefault(\u001B[38;5;124m\"\u001B[39m\u001B[38;5;124mdiscount_factor\u001B[39m\u001B[38;5;124m\"\u001B[39m, \u001B[38;5;241m0.995\u001B[39m)\n\u001B[0;32m     47\u001B[0m kwargs\u001B[38;5;241m.\u001B[39msetdefault(\u001B[38;5;124m\"\u001B[39m\u001B[38;5;124mdamping_factor\u001B[39m\u001B[38;5;124m\"\u001B[39m, \u001B[38;5;241m0.9\u001B[39m)\n\u001B[1;32m---> 48\u001B[0m \u001B[38;5;28;43msuper\u001B[39;49m\u001B[43m(\u001B[49m\u001B[43m)\u001B[49m\u001B[38;5;241;43m.\u001B[39;49m\u001B[38;5;21;43m__init__\u001B[39;49m\u001B[43m(\u001B[49m\u001B[38;5;241;43m*\u001B[39;49m\u001B[43margs\u001B[49m\u001B[43m,\u001B[49m\u001B[43m \u001B[49m\u001B[38;5;241;43m*\u001B[39;49m\u001B[38;5;241;43m*\u001B[39;49m\u001B[43mkwargs\u001B[49m\u001B[43m)\u001B[49m\n",
      "File \u001B[1;32mC:\\Users\\Public\\projects\\Belief_propagation_simulator_\\bp_base\\engines_realizations.py:12\u001B[0m, in \u001B[0;36mSplitEngine.__init__\u001B[1;34m(self, p, *args, **kwargs)\u001B[0m\n\u001B[0;32m     10\u001B[0m \u001B[38;5;28;01mdef\u001B[39;00m \u001B[38;5;21m__init__\u001B[39m(\u001B[38;5;28mself\u001B[39m, \u001B[38;5;241m*\u001B[39margs, p: \u001B[38;5;28mfloat\u001B[39m \u001B[38;5;241m=\u001B[39m \u001B[38;5;241m0.5\u001B[39m, \u001B[38;5;241m*\u001B[39m\u001B[38;5;241m*\u001B[39mkwargs):\n\u001B[0;32m     11\u001B[0m     \u001B[38;5;28mself\u001B[39m\u001B[38;5;241m.\u001B[39mp \u001B[38;5;241m=\u001B[39m p\n\u001B[1;32m---> 12\u001B[0m     \u001B[38;5;28;43msuper\u001B[39;49m\u001B[43m(\u001B[49m\u001B[43m)\u001B[49m\u001B[38;5;241;43m.\u001B[39;49m\u001B[38;5;21;43m__init__\u001B[39;49m\u001B[43m(\u001B[49m\u001B[38;5;241;43m*\u001B[39;49m\u001B[43margs\u001B[49m\u001B[43m,\u001B[49m\u001B[43m \u001B[49m\u001B[38;5;241;43m*\u001B[39;49m\u001B[38;5;241;43m*\u001B[39;49m\u001B[43mkwargs\u001B[49m\u001B[43m)\u001B[49m\n",
      "File \u001B[1;32mC:\\Users\\Public\\projects\\Belief_propagation_simulator_\\bp_base\\engines_realizations.py:20\u001B[0m, in \u001B[0;36mTDEngine.__init__\u001B[1;34m(self, damping_factor, *args, **kwargs)\u001B[0m\n\u001B[0;32m     19\u001B[0m \u001B[38;5;28;01mdef\u001B[39;00m \u001B[38;5;21m__init__\u001B[39m(\u001B[38;5;28mself\u001B[39m, \u001B[38;5;241m*\u001B[39margs, damping_factor: \u001B[38;5;28mfloat\u001B[39m \u001B[38;5;241m=\u001B[39m \u001B[38;5;241m0.9\u001B[39m, \u001B[38;5;241m*\u001B[39m\u001B[38;5;241m*\u001B[39mkwargs):\n\u001B[1;32m---> 20\u001B[0m     \u001B[38;5;28;43msuper\u001B[39;49m\u001B[43m(\u001B[49m\u001B[43m)\u001B[49m\u001B[38;5;241;43m.\u001B[39;49m\u001B[38;5;21;43m__init__\u001B[39;49m\u001B[43m(\u001B[49m\u001B[38;5;241;43m*\u001B[39;49m\u001B[43margs\u001B[49m\u001B[43m,\u001B[49m\u001B[43m \u001B[49m\u001B[38;5;241;43m*\u001B[39;49m\u001B[38;5;241;43m*\u001B[39;49m\u001B[43mkwargs\u001B[49m\u001B[43m)\u001B[49m\n\u001B[0;32m     21\u001B[0m     \u001B[38;5;28mself\u001B[39m\u001B[38;5;241m.\u001B[39mdamping_factor \u001B[38;5;241m=\u001B[39m damping_factor\n",
      "\u001B[1;31mTypeError\u001B[0m: BPEngine.__init__() got an unexpected keyword argument 'discount_factor'"
     ]
    }
   ],
   "execution_count": 2
  },
  {
   "metadata": {},
   "cell_type": "markdown",
   "source": "",
   "id": "d5d250142c7ffd14"
  },
  {
   "metadata": {},
   "cell_type": "code",
   "source": [
    "import numpy as np\n",
    "from matplotlib import pyplot as plt\n",
    "\n",
    "for key, cost_list in costs.items():\n",
    "    avg_costs = np.average(cost_list, axis=0)\n",
    "    plt.plot(avg_costs, label=key)\n",
    "\n",
    "plt.title(\"Costs over Iterations for Random Factor Graph\")\n",
    "plt.xlabel(\"Iteration\")\n",
    "plt.ylabel(\"Cost\")\n",
    "plt.legend()\n",
    "plt.grid(True)\n",
    "plt.show()\n"
   ],
   "id": "6b4fe5bb16cffcd",
   "outputs": [],
   "execution_count": null
  }
 ],
 "metadata": {
  "kernelspec": {
   "display_name": "Python 3",
   "language": "python",
   "name": "python3"
  },
  "language_info": {
   "codemirror_mode": {
    "name": "ipython",
    "version": 2
   },
   "file_extension": ".py",
   "mimetype": "text/x-python",
   "name": "python",
   "nbconvert_exporter": "python",
   "pygments_lexer": "ipython2",
   "version": "2.7.6"
  }
 },
 "nbformat": 4,
 "nbformat_minor": 5
}
