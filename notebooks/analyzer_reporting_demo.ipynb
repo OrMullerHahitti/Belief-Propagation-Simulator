{
 "cells": [
  {
   "cell_type": "markdown",
   "id": "16516e95",
   "metadata": {},
   "source": [
    "# Analyzer Reporting Demo (Random Graph)\n",
    "\n",
    "This notebook demonstrates the new analyzer/reporting workflow on a randomly generated factor graph. Each section highlights one of the core features added in the recent updates.\n"
   ]
  },
  {
   "cell_type": "markdown",
   "id": "01361f02",
   "metadata": {},
   "source": [
    "## 1. Imports and Setup\n",
    "\n",
    "We bring in the PropFlow builders, the snapshot recorder, and the reporting utilities. All computations run on a small random graph so they execute quickly in the notebook environment.\n"
   ]
  },
  {
   "cell_type": "code",
   "execution_count": 2,
   "id": "585c4f7b",
   "metadata": {},
   "outputs": [],
   "source": [
    "from pathlib import Path\n",
    "\n",
    "import networkx as nx\n",
    "import numpy as np\n",
    "\n",
    "from propflow import BPEngine, FGBuilder\n",
    "from propflow.configs import CTFactory\n",
    "from analyzer.snapshot_recorder import EngineSnapshotRecorder\n",
    "from analyzer.reporting import (\n",
    "    SnapshotAnalyzer,\n",
    "    AnalysisReport,\n",
    "    parse_snapshots,\n",
    ")\n"
   ]
  },
  {
   "cell_type": "markdown",
   "id": "c59e5972",
   "metadata": {},
   "source": [
    "## 2. Build a Random Factor Graph and Capture Snapshots\n",
    "\n",
    "We use `FGBuilder.build_random_graph` with the integer cost-table factory. The engine runs for a handful of iterations while the recorder captures every message exchange.\n"
   ]
  },
  {
   "cell_type": "code",
   "execution_count": 3,
   "id": "a9338c92",
   "metadata": {},
   "outputs": [
    {
     "data": {
      "text/plain": [
       "5"
      ]
     },
     "execution_count": 3,
     "metadata": {},
     "output_type": "execute_result"
    }
   ],
   "source": [
    "# Construct a small random factor graph\n",
    "np.random.seed(7)\n",
    "random_fg = FGBuilder.build_random_graph(\n",
    "    num_vars=6,\n",
    "    domain_size=3,\n",
    "    ct_factory=CTFactory.random_int.fn,\n",
    "    ct_params={'low': 0, 'high': 8},\n",
    "    density=0.6,\n",
    ")\n",
    "\n",
    "# Run a BP engine and capture per-step snapshots\n",
    "engine = BPEngine(factor_graph=random_fg)\n",
    "recorder = EngineSnapshotRecorder(engine)\n",
    "raw_snapshots = recorder.record_run(max_steps=5)\n",
    "len(raw_snapshots)\n"
   ]
  },
  {
   "cell_type": "markdown",
   "id": "46fd2695",
   "metadata": {},
   "source": [
    "### Inspect the First Snapshot\n",
    "\n",
    "The recorder returns plain dictionaries. We take a quick look at the message keys and sample values before parsing them into typed records.\n"
   ]
  },
  {
   "cell_type": "code",
   "execution_count": 4,
   "id": "59680458",
   "metadata": {},
   "outputs": [
    {
     "data": {
      "text/plain": [
       "{'step': 0,\n",
       " 'message_count': 36,\n",
       " 'assignments': {'x1': 2, 'x5': 1, 'x3': 0, 'x4': 0, 'x6': 2, 'x2': 2},\n",
       " 'neutral_messages': 28}"
      ]
     },
     "execution_count": 4,
     "metadata": {},
     "output_type": "execute_result"
    }
   ],
   "source": [
    "first_snapshot = raw_snapshots[0]\n",
    "{\n",
    "    'step': first_snapshot['step'],\n",
    "    'message_count': len(first_snapshot['messages']),\n",
    "    'assignments': first_snapshot['assignments'],\n",
    "    'neutral_messages': first_snapshot['neutral_messages'],\n",
    "}\n"
   ]
  },
  {
   "cell_type": "markdown",
   "id": "04208856",
   "metadata": {},
   "source": [
    "## 3. Parse Snapshots and Register Factor Costs\n",
    "\n",
    "`parse_snapshots` validates step ordering, argmin metadata, and neutral counts. We also gather the factor cost tables so neutrality checks and split-ratio recommendations can use the correct thresholds.\n"
   ]
  },
  {
   "cell_type": "code",
   "execution_count": 5,
   "id": "873f0457",
   "metadata": {},
   "outputs": [
    {
     "data": {
      "text/plain": [
       "5"
      ]
     },
     "execution_count": 5,
     "metadata": {},
     "output_type": "execute_result"
    }
   ],
   "source": [
    "records = parse_snapshots(raw_snapshots)\n",
    "len(records)\n"
   ]
  },
  {
   "cell_type": "code",
   "execution_count": null,
   "id": "5677d083",
   "metadata": {},
   "outputs": [
    {
     "data": {
      "text/plain": [
       "dict_keys(['f23', 'f12', 'f35', 'f15', 'f16', 'f24', 'f25', 'f46', 'f45', 'f13', 'f56'])"
      ]
     },
     "execution_count": 5,
     "metadata": {},
     "output_type": "execute_result"
    }
   ],
   "source": [
    "# Collect factor cost tables from the original graph\n",
    "factor_tables = {\n",
    "    factor.name: np.asarray(factor.cost_table, dtype=float)\n",
    "    for factor in engine.factor_nodes\n",
    "}\n",
    "\n",
    "analyzer = SnapshotAnalyzer(records, max_cycle_len=6)\n",
    "for name, table in factor_tables.items():\n",
    "    analyzer.register_factor_cost(name, table)\n",
    "\n",
    "factor_tables.keys()\n"
   ]
  },
  {
   "cell_type": "markdown",
   "id": "5730ca8b",
   "metadata": {},
   "source": [
    "## 4. Belief Trajectories per Variable\n",
    "\n",
    "The analyzer reconstructs the argmin trajectory for each variable by aggregating factor-to-variable messages (mirroring the legacy visualizer logic).\n"
   ]
  },
  {
   "cell_type": "code",
   "execution_count": null,
   "id": "f0cd8548",
   "metadata": {},
   "outputs": [
    {
     "data": {
      "text/plain": [
       "{'x1': [2, 2, 2, 2, 2],\n",
       " 'x2': [2, 2, 2, 2, 2],\n",
       " 'x3': [0, 0, 0, 0, 0],\n",
       " 'x4': [2, 2, 2, 2, 2],\n",
       " 'x5': [1, 1, 1, 1, 1],\n",
       " 'x6': [2, 2, 2, 2, 2]}"
      ]
     },
     "execution_count": 6,
     "metadata": {},
     "output_type": "execute_result"
    }
   ],
   "source": [
    "belief_series = analyzer.beliefs_per_variable()\n",
    "belief_series\n"
   ]
  },
  {
   "cell_type": "markdown",
   "id": "ed0c49ff",
   "metadata": {},
   "source": [
    "## 5. Difference Coordinates (ΔQ, ΔR)\n",
    "\n",
    "We recenter variable→factor and factor→variable messages into difference coordinates. Binary domains collapse to scalar gaps; multi-label domains are shifted so their minima start at zero.\n"
   ]
  },
  {
   "cell_type": "code",
   "execution_count": 6,
   "id": "d3af9243",
   "metadata": {},
   "outputs": [
    {
     "ename": "NameError",
     "evalue": "name 'analyzer' is not defined",
     "output_type": "error",
     "traceback": [
      "\u001b[31m---------------------------------------------------------------------------\u001b[39m",
      "\u001b[31mNameError\u001b[39m                                 Traceback (most recent call last)",
      "\u001b[36mCell\u001b[39m\u001b[36m \u001b[39m\u001b[32mIn[6]\u001b[39m\u001b[32m, line 1\u001b[39m\n\u001b[32m----> \u001b[39m\u001b[32m1\u001b[39m delta_q, delta_r = \u001b[43manalyzer\u001b[49m.difference_coordinates(step_idx=\u001b[32m0\u001b[39m)\n\u001b[32m      2\u001b[39m \u001b[38;5;28mlist\u001b[39m(delta_q.items())[:\u001b[32m3\u001b[39m]\n",
      "\u001b[31mNameError\u001b[39m: name 'analyzer' is not defined"
     ]
    }
   ],
   "source": [
    "delta_q, delta_r = analyzer.difference_coordinates(step_idx=0)\n",
    "list(delta_q.items())[:3]\n"
   ]
  },
  {
   "cell_type": "markdown",
   "id": "33e6811f",
   "metadata": {},
   "source": [
    "## 6. Jacobian Construction and Dependency Graph\n",
    "\n",
    "The Jacobian is built in difference coordinates. Small systems use dense matrices automatically; the dependency digraph captures the non-zero pattern for graph-based diagnostics.\n"
   ]
  },
  {
   "cell_type": "code",
   "execution_count": null,
   "id": "16a80cf4",
   "metadata": {},
   "outputs": [
    {
     "data": {
      "text/plain": [
       "array([[0., 0., 0., ..., 0., 0., 0.],\n",
       "       [0., 0., 0., ..., 0., 0., 0.],\n",
       "       [0., 0., 0., ..., 0., 0., 0.],\n",
       "       ...,\n",
       "       [0., 0., 0., ..., 0., 0., 0.],\n",
       "       [0., 0., 0., ..., 0., 0., 0.],\n",
       "       [0., 0., 0., ..., 0., 0., 0.]], shape=(132, 132))"
      ]
     },
     "execution_count": 8,
     "metadata": {},
     "output_type": "execute_result"
    }
   ],
   "source": [
    "J0 = analyzer.jacobian(step_idx=0)\n",
    "J0_dense = J0.toarray() if hasattr(J0, 'toarray') else np.asarray(J0)\n",
    "J0_dense\n"
   ]
  },
  {
   "cell_type": "code",
   "execution_count": 1,
   "id": "e2550bfe",
   "metadata": {},
   "outputs": [
    {
     "ename": "NameError",
     "evalue": "name 'analyzer' is not defined",
     "output_type": "error",
     "traceback": [
      "\u001b[31m---------------------------------------------------------------------------\u001b[39m",
      "\u001b[31mNameError\u001b[39m                                 Traceback (most recent call last)",
      "\u001b[36mCell\u001b[39m\u001b[36m \u001b[39m\u001b[32mIn[1]\u001b[39m\u001b[32m, line 1\u001b[39m\n\u001b[32m----> \u001b[39m\u001b[32m1\u001b[39m dep_graph = \u001b[43manalyzer\u001b[49m.dependency_digraph(step_idx=\u001b[32m0\u001b[39m)\n\u001b[32m      2\u001b[39m {\n\u001b[32m      3\u001b[39m     \u001b[33m'\u001b[39m\u001b[33mnodes\u001b[39m\u001b[33m'\u001b[39m: dep_graph.number_of_nodes(),\n\u001b[32m      4\u001b[39m     \u001b[33m'\u001b[39m\u001b[33medges\u001b[39m\u001b[33m'\u001b[39m: dep_graph.number_of_edges(),\n\u001b[32m      5\u001b[39m     \u001b[33m'\u001b[39m\u001b[33mexample_node\u001b[39m\u001b[33m'\u001b[39m: dep_graph.nodes[\u001b[38;5;28mnext\u001b[39m(\u001b[38;5;28miter\u001b[39m(dep_graph.nodes))],\n\u001b[32m      6\u001b[39m }\n",
      "\u001b[31mNameError\u001b[39m: name 'analyzer' is not defined"
     ]
    }
   ],
   "source": [
    "dep_graph = analyzer.dependency_digraph(step_idx=0)\n",
    "{\n",
    "    'nodes': dep_graph.number_of_nodes(),\n",
    "    'edges': dep_graph.number_of_edges(),\n",
    "    'example_node': dep_graph.nodes[next(iter(dep_graph.nodes))],\n",
    "}\n"
   ]
  },
  {
   "cell_type": "markdown",
   "id": "7dffd453",
   "metadata": {},
   "source": [
    "## 7. Neutrality Checks and Greedy SCC Cover\n",
    "\n",
    "We certify a sample factor step and then run the SCC-based greedy cover routine to break all directed cycles.\n"
   ]
  },
  {
   "cell_type": "code",
   "execution_count": null,
   "id": "291cb345",
   "metadata": {},
   "outputs": [],
   "source": [
    "record0 = records[0]\n",
    "q_messages = {\n",
    "    (msg.sender, msg.recipient): msg\n",
    "    for msg in record0.messages\n",
    "    if msg.flow == 'variable_to_factor'\n",
    "}\n",
    "\n",
    "sample_from_var, sample_factor = next(iter(q_messages.keys()))\n",
    "# Pick a target variable receiving from the same factor\n",
    "r_candidates = [\n",
    "    msg.recipient\n",
    "    for msg in record0.messages\n",
    "    if msg.flow == 'factor_to_variable' and msg.sender == sample_factor\n",
    "]\n",
    "\n",
    "sample_to_var = r_candidates[0]\n",
    "neutral_flag, winning_label = analyzer.neutral_step_test(\n",
    "    step_idx=0,\n",
    "    factor=sample_factor,\n",
    "    from_var=sample_from_var,\n",
    "    to_var=sample_to_var,\n",
    ")\n",
    "neutral_flag, winning_label\n"
   ]
  },
  {
   "cell_type": "code",
   "execution_count": null,
   "id": "629914b1",
   "metadata": {},
   "outputs": [],
   "source": [
    "cover, residual = analyzer.scc_greedy_neutral_cover(step_idx=0, alpha={})\n",
    "cover, residual.number_of_nodes(), residual.number_of_edges()\n"
   ]
  },
  {
   "cell_type": "markdown",
   "id": "8b514302",
   "metadata": {},
   "source": [
    "## 8. Nilpotent Bounds, Block Norms, Cycles, and Split Ratios\n",
    "\n",
    "The analyzer reports the nilpotent index (when it exists), the DAG longest-path bound, block norms consistent with the engine snapshot manager, cycle statistics, and heuristic split-ratio recommendations.\n"
   ]
  },
  {
   "cell_type": "code",
   "execution_count": null,
   "id": "e36ed117",
   "metadata": {},
   "outputs": [],
   "source": [
    "nilpotent = analyzer.nilpotent_index(0)\n",
    "dag_bound = analyzer._dag_bound_cache.get(0)\n",
    "block_norms = analyzer.block_norms(0)\n",
    "cycle_info = analyzer.cycle_metrics(0)\n",
    "ratios = analyzer.recommend_split_ratios(0)\n",
    "{\n",
    "    'nilpotent_index': nilpotent,\n",
    "    'dag_bound': dag_bound,\n",
    "    'block_norms': block_norms,\n",
    "    'cycle_metrics': cycle_info,\n",
    "    'recommended_alpha': ratios,\n",
    "}\n"
   ]
  },
  {
   "cell_type": "markdown",
   "id": "aa63bb05",
   "metadata": {},
   "source": [
    "## 9. Reporting Artefacts (JSON / CSV / Plots)\n",
    "\n",
    "`AnalysisReport` bundles the analyzer results into reusable exports. The example below writes JSON and CSV summaries and produces belief/dependency plots under `results/analyzer_demo`.\n"
   ]
  },
  {
   "cell_type": "code",
   "execution_count": null,
   "id": "3cea2db4",
   "metadata": {},
   "outputs": [],
   "source": [
    "report = AnalysisReport(analyzer)\n",
    "summary = report.to_json(step_idx=0)\n",
    "summary\n"
   ]
  },
  {
   "cell_type": "code",
   "execution_count": null,
   "id": "7c2f7bfa",
   "metadata": {},
   "outputs": [],
   "source": [
    "output_dir = Path('results/analyzer_demo')\n",
    "report.to_csv(output_dir, step_idx=0)\n",
    "report.plots(output_dir, step_idx=0, include_graph=True)\n",
    "sorted(p.name for p in output_dir.iterdir())\n"
   ]
  },
  {
   "cell_type": "markdown",
   "id": "a4776a7a",
   "metadata": {},
   "source": [
    "## 10. CLI Reference\n",
    "\n",
    "Run the same analysis from the terminal with the dedicated entry point:\n",
    "\n",
    "````\n",
    "bp-analyze \\\n",
    "  --snapshots results/run.json \\\n",
    "  --out results/analyzer_demo \\\n",
    "  --step 0 \\\n",
    "  --compute-jac \\\n",
    "  --cover \\\n",
    "  --plot\n",
    "````\n",
    "\n",
    "This command mirrors the notebook flow: it parses snapshots, builds the analyzer, exports summaries, and optionally writes the Jacobian and neutral cover information.\n"
   ]
  }
 ],
 "metadata": {
  "kernelspec": {
   "display_name": "propflow",
   "language": "python",
   "name": "python3"
  },
  "language_info": {
   "codemirror_mode": {
    "name": "ipython",
    "version": 3
   },
   "file_extension": ".py",
   "mimetype": "text/x-python",
   "name": "python",
   "nbconvert_exporter": "python",
   "pygments_lexer": "ipython3",
   "version": "3.13.9"
  }
 },
 "nbformat": 4,
 "nbformat_minor": 5
}
