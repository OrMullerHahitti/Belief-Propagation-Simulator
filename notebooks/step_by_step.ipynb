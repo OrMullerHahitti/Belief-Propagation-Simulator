{
 "cells": [
  {
   "metadata": {},
   "cell_type": "markdown",
   "source": "# This module was meant to run engine step by step",
   "id": "28daec12718dbfae"
  },
  {
   "metadata": {
    "ExecuteTime": {
     "end_time": "2025-05-24T13:55:30.521908Z",
     "start_time": "2025-05-24T13:55:29.928768Z"
    }
   },
   "cell_type": "code",
   "source": [
    "from bp_base.bp_engine_base import BPEngine\n",
    "from bp_base.bp_computators import MinSumComputator\n",
    "from utils.examples import create_simple_factor_graph_cycle\n",
    "import numpy as np\n",
    "np.random.seed(42)\n",
    "fg = create_simple_factor_graph_cycle()\n",
    "engine = BPEngine(fg,computator=MinSumComputator(),monitor_performance=True)\n",
    "i=0\n",
    "\n",
    "for factor in fg.factors:\n",
    "    print(factor.name)\n",
    "    print(factor.cost_table)\n",
    "    print()\n"
   ],
   "id": "initial_id",
   "outputs": [
    {
     "name": "stdout",
     "output_type": "stream",
     "text": [
      "NetworkX version: 3.4.2\n",
      "Attempting to load: C:\\Users\\Public\\projects\\Belief_propagation_simulator_\\configs\\factor_graphs\\factor-graph-cycle-3-random_intlow1,high100-number5.pkl\n",
      "File does not exist: C:\\Users\\Public\\projects\\Belief_propagation_simulator_\\configs\\factor_graphs\\factor-graph-cycle-3-random_intlow1,high100-number5.pkl\n",
      "Available factor graph files in C:\\Users\\Public\\projects\\Belief_propagation_simulator_\\configs\\factor_graphs:\n",
      "  - factor-graph-cycle-3-random_intlow100,high2000.3-number0.pkl\n",
      "Using first available file: C:\\Users\\Public\\projects\\Belief_propagation_simulator_\\configs\\factor_graphs\\factor-graph-cycle-3-random_intlow100,high2000.3-number0.pkl\n",
      "Graph loaded. Type: <class 'bp_base.factor_graph.FactorGraph'>\n",
      "\n",
      "Factor graph details:\n",
      "Variables: 3\n",
      "Factors: 3\n",
      "Graph nodes: 6\n",
      "Graph edges: 6\n",
      "\n",
      "First few nodes:\n",
      "  - X1\n",
      "  - X2\n",
      "  - X3\n",
      "  - F12\n",
      "  - F23\n",
      "\n",
      "First variable: x1, Domain: 3\n",
      "\n",
      "First factor: f12\n",
      "Cost table shape: (3, 3)\n",
      "\n",
      "Repaired graph saved to: C:\\Users\\Public\\projects\\Belief_propagation_simulator_\\configs\\factor_graphs\\repaired_factor-graph-cycle-3-random_intlow100,high2000.3-number0.pkl\n",
      "f12\n",
      "[[129 137 101]\n",
      " [163 159 120]\n",
      " [132 175 157]]\n",
      "\n",
      "f23\n",
      "[[174 187 199]\n",
      " [123 102 121]\n",
      " [152 101 187]]\n",
      "\n",
      "f31\n",
      "[[151 192 114]\n",
      " [171 160 120]\n",
      " [182 186 174]]\n",
      "\n"
     ]
    }
   ],
   "execution_count": 1
  },
  {
   "metadata": {},
   "cell_type": "markdown",
   "source": "## stepping into the engine showing metrcis eah run",
   "id": "5b33d72dcd9851cc"
  },
  {
   "metadata": {
    "ExecuteTime": {
     "end_time": "2025-05-24T13:56:31.542463Z",
     "start_time": "2025-05-24T13:56:31.232534Z"
    }
   },
   "cell_type": "code",
   "source": [
    "#add step\n",
    "\n",
    "curr_step = engine.cycle(i)\n",
    "i=i+1"
   ],
   "id": "cfd2cbde2d3aa8a3",
   "outputs": [],
   "execution_count": 4
  },
  {
   "metadata": {},
   "cell_type": "code",
   "outputs": [],
   "execution_count": null,
   "source": "",
   "id": "85983ce777a6287d"
  }
 ],
 "metadata": {
  "kernelspec": {
   "display_name": "Python 3",
   "language": "python",
   "name": "python3"
  },
  "language_info": {
   "codemirror_mode": {
    "name": "ipython",
    "version": 2
   },
   "file_extension": ".py",
   "mimetype": "text/x-python",
   "name": "python",
   "nbconvert_exporter": "python",
   "pygments_lexer": "ipython2",
   "version": "2.7.6"
  }
 },
 "nbformat": 4,
 "nbformat_minor": 5
}
