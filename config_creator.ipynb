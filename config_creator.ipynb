{
 "cells": [
  {
   "cell_type": "markdown",
   "metadata": {},
   "source": [
    "# Factor Graph Config Creator\n",
    "Interactively create and save factor graph configurations."
   ]
  },
  {
   "cell_type": "code",
   "metadata": {},
   "source": [
    "from utils.create_factor_graphs_from_config import FactorGraphBuilder\n",
    "from utils.path_utils import find_project_root"
   ],
   "outputs": [],
   "execution_count": null
  },
  {
   "cell_type": "markdown",
   "metadata": {},
   "source": [
    "## Step 1: Set up the config path and import the ConfigCreator"
   ]
  },
  {
   "cell_type": "code",
   "metadata": {
    "ExecuteTime": {
     "end_time": "2025-05-10T13:41:52.811670Z",
     "start_time": "2025-05-10T13:41:52.787798Z"
    }
   },
   "source": [
    "from utils.create_factor_graph_config import ConfigCreator\n",
    "from utils.path_utils import find_project_root\n",
    "config_path = find_project_root() / \"configs/factor_graph_configs\"\n",
    "config_path"
   ],
   "outputs": [
    {
     "data": {
      "text/plain": [
       "WindowsPath('C:/Users/Public/projects/Belief_propagation_simulator_/configs/factor_graph_configs')"
      ]
     },
     "execution_count": 2,
     "metadata": {},
     "output_type": "execute_result"
    }
   ],
   "execution_count": 2
  },
  {
   "cell_type": "markdown",
   "metadata": {},
   "source": [
    "## Step 2: Create a new configuration interactively\n",
    "You can change the parameters below to create different graph configs."
   ]
  },
  {
   "cell_type": "code",
   "metadata": {
    "ExecuteTime": {
     "end_time": "2025-05-10T13:42:05.221230Z",
     "start_time": "2025-05-10T13:42:05.212099Z"
    }
   },
   "source": [
    "graph_type = \"cycle\"  # e.g., 'random', 'cycle', etc.\n",
    "domain_size = 5\n",
    "num_variables = 4\n",
    "ct_factory = \"random_int\"\n",
    "ct_params = {\"low\": 1, \"high\": 100}\n",
    "density = 0.3\n",
    "\n",
    "ConfigCreator(config_path).create_graph_config(\n",
    "    graph_type=graph_type,\n",
    "    domain_size=domain_size,\n",
    "    num_variables=num_variables,\n",
    "    ct_factory=ct_factory,\n",
    "    ct_params=ct_params,\n",
    "    density=density,\n",
    ")"
   ],
   "outputs": [
    {
     "data": {
      "text/plain": [
       "WindowsPath('C:/Users/Public/projects/Belief_propagation_simulator_/configs/factor_graph_configs/cycle-4-random_intlow1,high1000.3.pkl')"
      ]
     },
     "execution_count": 3,
     "metadata": {},
     "output_type": "execute_result"
    }
   ],
   "execution_count": 3
  },
  {
   "cell_type": "markdown",
   "metadata": {},
   "source": [
    "## Step 3: Build and save a factor graph from a config file"
   ]
  },
  {
   "cell_type": "code",
   "metadata": {
    "ExecuteTime": {
     "end_time": "2025-05-10T15:27:01.015117Z",
     "start_time": "2025-05-10T15:27:00.976801Z"
    }
   },
   "source": [
    "from utils.create_factor_graphs_from_config import FactorGraphBuilder\n",
    "from utils.path_utils import find_project_root\n",
    "builder = FactorGraphBuilder()\n",
    "cfg_path = str(find_project_root() / \"configs/factor_graph_configs/random-20-random_intlow1,high1000.3.pkl\")\n",
    "out_path = builder.build_and_save(cfg_path)\n",
    "print(f\"Factor graph saved to: {out_path}\")\n"
   ],
   "outputs": [
    {
     "name": "stdout",
     "output_type": "stream",
     "text": [
      "Factor graph saved to: C:\\Users\\Public\\projects\\Belief_propagation_simulator_\\configs\\factor_graphs\\factor-graph-random-20-random_intlow1,high1000.3-number0.pkl\n"
     ]
    }
   ],
   "execution_count": 2
  },
  {
   "cell_type": "markdown",
   "metadata": {},
   "source": [
    "## Step 4: Load and visualize the factor graph"
   ]
  },
  {
   "cell_type": "code",
   "metadata": {},
   "source": [
    "loaded_graph = builder.load_graph(out_path)\n",
    "loaded_graph.visualize()"
   ],
   "outputs": [],
   "execution_count": null
  }
 ],
 "metadata": {
  "kernelspec": {
   "display_name": "Python 3",
   "language": "python",
   "name": "python3"
  },
  "language_info": {
   "name": "python",
   "version": ""
  }
 },
 "nbformat": 4,
 "nbformat_minor": 2
}
