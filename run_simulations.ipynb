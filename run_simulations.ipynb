{
 "cells": [
  {
   "cell_type": "code",
   "id": "initial_id",
   "metadata": {
    "collapsed": true
   },
   "source": [
    "import os\n",
    "from os.path import exists\n",
    "from utils.path_utils import create_directory\n",
    "from bp_base.engines_realizations import DampingAndSplitting\n",
    "from pathlib import Path\n",
    "import pickle\n",
    "from utils.path_utils import find_project_root, create_directory\n",
    "\n",
    "GRAPH_DIR = find_project_root() /\"configs\" / \"factor_graphs\"\n",
    "PATTERN = \"*pkl\"\n",
    "graph_dir = list(GRAPH_DIR.glob(PATTERN))\n",
    "\n",
    "graphs = []\n",
    "for fp in GRAPH_DIR.glob(PATTERN):\n",
    "    with fp.open(\"rb\") as f:\n",
    "        graphs.append(pickle.load(f))"
   ],
   "outputs": [],
   "execution_count": null
  },
  {
   "metadata": {},
   "cell_type": "markdown",
   "source": "## set saving dir for each simulation",
   "id": "507d091c14a12353"
  },
  {
   "metadata": {},
   "cell_type": "code",
   "source": [
    "import asyncio\n",
    "from bp_base.bp_engine_base import BPEngine\n",
    "from bp_base.engines_realizations import (\n",
    "SplitEngine,\n",
    "DampingEngine,\n",
    "CostReductionOnceEngine,\n",
    "CostReductionAndDamping,\n",
    "DampAndDiscountBPEngine,\n",
    "\n",
    ")\n",
    "\n",
    "\n",
    "for fg in graphs:\n",
    "    engines = [\n",
    "    BPEngine(factor_graph=fg),\n",
    "    SplitEngine(factor_graph=fg),\n",
    "    DampingEngine(factor_graph=fg),\n",
    "    CostReductionAndDamping(factor_graph=fg),\n",
    "    CostReductionOnceEngine(factor_graph=fg),\n",
    "    DampingAndSplitting(factor_graph=fg),\n",
    "    DampAndDiscountBPEngine(factor_graph=fg)\n",
    "    ]\n",
    "for engine in engines:\n",
    "   engine.run(max_iter=200, save_json=False, save_csv=True)\n",
    "\n",
    "\n",
    "\n"
   ],
   "id": "1668d59c2a9c0ace",
   "outputs": [],
   "execution_count": null
  },
  {
   "metadata": {},
   "cell_type": "markdown",
   "source": "",
   "id": "d5d250142c7ffd14"
  }
 ],
 "metadata": {
  "kernelspec": {
   "display_name": "Python 3",
   "language": "python",
   "name": "python3"
  },
  "language_info": {
   "codemirror_mode": {
    "name": "ipython",
    "version": 2
   },
   "file_extension": ".py",
   "mimetype": "text/x-python",
   "name": "python",
   "nbconvert_exporter": "python",
   "pygments_lexer": "ipython2",
   "version": "2.7.6"
  }
 },
 "nbformat": 4,
 "nbformat_minor": 5
}
